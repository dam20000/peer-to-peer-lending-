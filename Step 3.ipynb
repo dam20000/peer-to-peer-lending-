{
 "cells": [
  {
   "cell_type": "code",
   "execution_count": 1,
   "metadata": {},
   "outputs": [],
   "source": [
    "# Load general utilities\n",
    "# ----------------------\n",
    "import pandas as pd\n",
    "import matplotlib.pyplot as plt\n",
    "import matplotlib.axes as ax\n",
    "import datetime\n",
    "import numpy as np\n",
    "import time\n",
    "import seaborn as sns\n",
    "import os\n",
    "from scipy.stats import zscore\n",
    "\n",
    "# Load sklearn utilities\n",
    "# ----------------------\n",
    "from sklearn.model_selection import train_test_split\n",
    "from sklearn.preprocessing import LabelEncoder, StandardScaler\n",
    "from sklearn.metrics import accuracy_score, classification_report, roc_auc_score, roc_curve, brier_score_loss, mean_squared_error, r2_score, precision_score, recall_score, confusion_matrix\n",
    "\n",
    "# Load classifiers\n",
    "# ----------------\n",
    "from sklearn.linear_model import LogisticRegression, LinearRegression\n",
    "from sklearn.tree import DecisionTreeClassifier, DecisionTreeRegressor\n",
    "from sklearn.ensemble import RandomForestClassifier, RandomForestRegressor\n",
    "\n",
    "from sklearn.ensemble import GradientBoostingClassifier, GradientBoostingRegressor\n",
    "from sklearn.preprocessing import LabelEncoder\n",
    "from sklearn.neighbors import KNeighborsClassifier, KNeighborsRegressor\n",
    "    \n",
    "pd.set_option('display.float_format', lambda x: '%.4f' % x)"
   ]
  },
  {
   "cell_type": "code",
   "execution_count": 2,
   "metadata": {},
   "outputs": [],
   "source": [
    "os.getcwd()\n",
    "l19 = pd.read_csv(\"loans_fromR.csv\")"
   ]
  },
  {
   "cell_type": "code",
   "execution_count": 3,
   "metadata": {},
   "outputs": [],
   "source": [
    "#df.var().sort_values(axis=0, ascending=True)"
   ]
  },
  {
   "cell_type": "markdown",
   "metadata": {},
   "source": [
    "# Changes from last stage"
   ]
  },
  {
   "cell_type": "markdown",
   "metadata": {},
   "source": [
    "- After reviwing the columns we dropped we decided to return two columns for furture considaration since we think they might have some use for our model\n",
    "- We decided to drop \"emp_title\" since it has too many unique values and will not benefit our model"
   ]
  },
  {
   "cell_type": "code",
   "execution_count": 4,
   "metadata": {},
   "outputs": [
    {
     "name": "stdout",
     "output_type": "stream",
     "text": [
      "emp_title number of unique values --> 75554\n"
     ]
    }
   ],
   "source": [
    "print(\"emp_title number of unique values --> %d\" % len(l19['emp_title'].unique()))\n",
    "l19.drop('emp_title', axis=1, inplace=True)"
   ]
  },
  {
   "cell_type": "code",
   "execution_count": 5,
   "metadata": {},
   "outputs": [],
   "source": [
    "df = l19.copy() "
   ]
  },
  {
   "cell_type": "markdown",
   "metadata": {},
   "source": [
    "# Dealing with missing value"
   ]
  },
  {
   "cell_type": "markdown",
   "metadata": {},
   "source": [
    "Checking missing value fractions"
   ]
  },
  {
   "cell_type": "code",
   "execution_count": 6,
   "metadata": {},
   "outputs": [
    {
     "data": {
      "text/html": [
       "<div>\n",
       "<style scoped>\n",
       "    .dataframe tbody tr th:only-of-type {\n",
       "        vertical-align: middle;\n",
       "    }\n",
       "\n",
       "    .dataframe tbody tr th {\n",
       "        vertical-align: top;\n",
       "    }\n",
       "\n",
       "    .dataframe thead th {\n",
       "        text-align: right;\n",
       "    }\n",
       "</style>\n",
       "<table border=\"1\" class=\"dataframe\">\n",
       "  <thead>\n",
       "    <tr style=\"text-align: right;\">\n",
       "      <th></th>\n",
       "      <th>Columns</th>\n",
       "      <th>missing_value_prop</th>\n",
       "    </tr>\n",
       "  </thead>\n",
       "  <tbody>\n",
       "    <tr>\n",
       "      <th>2</th>\n",
       "      <td>total_bal_il</td>\n",
       "      <td>0.0166</td>\n",
       "    </tr>\n",
       "    <tr>\n",
       "      <th>4</th>\n",
       "      <td>max_bal_bc</td>\n",
       "      <td>0.0166</td>\n",
       "    </tr>\n",
       "    <tr>\n",
       "      <th>5</th>\n",
       "      <td>all_util</td>\n",
       "      <td>0.0226</td>\n",
       "    </tr>\n",
       "    <tr>\n",
       "      <th>1</th>\n",
       "      <td>revol_util</td>\n",
       "      <td>0.0667</td>\n",
       "    </tr>\n",
       "    <tr>\n",
       "      <th>9</th>\n",
       "      <td>realized_return</td>\n",
       "      <td>0.1514</td>\n",
       "    </tr>\n",
       "    <tr>\n",
       "      <th>6</th>\n",
       "      <td>bc_open_to_buy</td>\n",
       "      <td>1.1464</td>\n",
       "    </tr>\n",
       "    <tr>\n",
       "      <th>8</th>\n",
       "      <td>percent_bc_gt_75</td>\n",
       "      <td>1.1551</td>\n",
       "    </tr>\n",
       "    <tr>\n",
       "      <th>7</th>\n",
       "      <td>bc_util</td>\n",
       "      <td>1.1969</td>\n",
       "    </tr>\n",
       "    <tr>\n",
       "      <th>3</th>\n",
       "      <td>il_util</td>\n",
       "      <td>13.9307</td>\n",
       "    </tr>\n",
       "    <tr>\n",
       "      <th>0</th>\n",
       "      <td>emp_length</td>\n",
       "      <td>14.8805</td>\n",
       "    </tr>\n",
       "  </tbody>\n",
       "</table>\n",
       "</div>"
      ],
      "text/plain": [
       "            Columns  missing_value_prop\n",
       "2      total_bal_il              0.0166\n",
       "4        max_bal_bc              0.0166\n",
       "5          all_util              0.0226\n",
       "1        revol_util              0.0667\n",
       "9   realized_return              0.1514\n",
       "6    bc_open_to_buy              1.1464\n",
       "8  percent_bc_gt_75              1.1551\n",
       "7           bc_util              1.1969\n",
       "3           il_util             13.9307\n",
       "0        emp_length             14.8805"
      ]
     },
     "execution_count": 6,
     "metadata": {},
     "output_type": "execute_result"
    }
   ],
   "source": [
    "col_name = []\n",
    "missing_value_prop = []\n",
    "for i in df.columns: \n",
    "\t# count number of rows with missing values\n",
    "    n_miss = df[i].isnull().sum()\n",
    "    if n_miss >0:\n",
    "        col_name.append(i)\n",
    "        missing_value_prop.append( n_miss / df.shape[0] * 100)\n",
    "    \n",
    "df_missing_val = pd.DataFrame({'Columns': col_name, 'missing_value_prop': missing_value_prop}) \n",
    "\n",
    "df_missing_val.sort_values(\"missing_value_prop\")"
   ]
  },
  {
   "cell_type": "markdown",
   "metadata": {},
   "source": [
    "Looking at missing fraction we decided, for now, to drop instances of attributes with missing value of less then 1% since its neglegent.\n",
    "For attributes with more then 1% missing values we will replace the NA with the median.\n",
    "When we porgress and try to improve our model we will look into the option of using Knn imputation to replace missing values and see if it benefits us"
   ]
  },
  {
   "cell_type": "code",
   "execution_count": 7,
   "metadata": {},
   "outputs": [],
   "source": [
    "missing_to_drop = []\n",
    "for i in range(df.shape[1]):\n",
    "    n_miss = df.iloc[:,i].isnull().sum()\n",
    "    perc = n_miss / df.shape[0] * 100\n",
    "    if perc <1 and perc>0 :\n",
    "        missing_to_drop.append(df.columns[i]) # get columns names\n",
    "\n",
    "        \n",
    "for i in missing_to_drop:\n",
    "    df =df[-df[i].isnull()]      "
   ]
  },
  {
   "cell_type": "markdown",
   "metadata": {},
   "source": [
    "Fill NA of the rest of the columns with their median"
   ]
  },
  {
   "cell_type": "code",
   "execution_count": 8,
   "metadata": {},
   "outputs": [],
   "source": [
    "df = df.fillna((df.median()))\n",
    "#df_one_hot = df_one_hot.drop([\"id\"], axis = 1)"
   ]
  },
  {
   "cell_type": "markdown",
   "metadata": {},
   "source": [
    "**-Parse dates**"
   ]
  },
  {
   "cell_type": "code",
   "execution_count": 9,
   "metadata": {},
   "outputs": [],
   "source": [
    "df[\"issue_d\"] = pd.to_datetime(df[\"issue_d\"])\n",
    "df[\"earliest_cr_line\"] = pd.to_datetime(df[\"earliest_cr_line\"], format= \"%b-%y\") "
   ]
  },
  {
   "cell_type": "markdown",
   "metadata": {},
   "source": [
    "-Create a feature for the length of a person's credit history at the\n",
    "time the loan is issued\n"
   ]
  },
  {
   "cell_type": "code",
   "execution_count": 10,
   "metadata": {},
   "outputs": [],
   "source": [
    "df['cr_hist'] = (df.issue_d - df.earliest_cr_line) / np.timedelta64(1, 'M')\n",
    "df.drop([\"issue_d\", \"earliest_cr_line\"], inplace=True, axis = 1)"
   ]
  },
  {
   "cell_type": "markdown",
   "metadata": {},
   "source": [
    "# Categorica attributes encoding"
   ]
  },
  {
   "cell_type": "markdown",
   "metadata": {},
   "source": [
    "For attributes with 2 unique values we will simplly encode the values as \"0\" and \"1\", for attributes with more unique values we will examine them and decide on the most suitble way for encoding"
   ]
  },
  {
   "cell_type": "markdown",
   "metadata": {},
   "source": [
    "-Get categorical and numeric column names"
   ]
  },
  {
   "cell_type": "code",
   "execution_count": 11,
   "metadata": {},
   "outputs": [
    {
     "name": "stdout",
     "output_type": "stream",
     "text": [
      "Index(['grade', 'sub_grade', 'home_ownership', 'verification_status',\n",
      "       'loan_status', 'purpose', 'addr_state', 'initial_list_status'],\n",
      "      dtype='object')\n"
     ]
    }
   ],
   "source": [
    "district_cols = df.select_dtypes([np.object]).columns\n",
    "print (district_cols)"
   ]
  },
  {
   "cell_type": "code",
   "execution_count": 12,
   "metadata": {},
   "outputs": [
    {
     "name": "stdout",
     "output_type": "stream",
     "text": [
      "Index(['loan_amnt', 'int_rate', 'installment', 'emp_length', 'annual_inc',\n",
      "       'dti', 'delinq_2yrs', 'fico_range_low', 'fico_range_high', 'open_acc',\n",
      "       'pub_rec', 'revol_bal', 'revol_util', 'tot_coll_amt', 'tot_cur_bal',\n",
      "       'total_bal_il', 'il_util', 'max_bal_bc', 'all_util', 'total_rev_hi_lim',\n",
      "       'avg_cur_bal', 'bc_open_to_buy', 'bc_util', 'mort_acc',\n",
      "       'num_actv_bc_tl', 'num_bc_sats', 'num_bc_tl', 'num_op_rev_tl',\n",
      "       'num_rev_accts', 'num_rev_tl_bal_gt_0', 'num_sats', 'pct_tl_nvr_dlq',\n",
      "       'percent_bc_gt_75', 'pub_rec_bankruptcies', 'tot_hi_cred_lim',\n",
      "       'total_bal_ex_mort', 'total_bc_limit', 'total_il_high_credit_limit',\n",
      "       'realized_return', 'cr_hist'],\n",
      "      dtype='object')\n"
     ]
    }
   ],
   "source": [
    "numeric_cols = df.select_dtypes([np.number]).columns\n",
    "print (numeric_cols)"
   ]
  },
  {
   "cell_type": "code",
   "execution_count": 13,
   "metadata": {},
   "outputs": [
    {
     "name": "stdout",
     "output_type": "stream",
     "text": [
      "grade --> 7 \n",
      "sub_grade --> 35 \n",
      "home_ownership --> 4 \n",
      "verification_status --> 3 \n",
      "loan_status --> 2 \n",
      "purpose --> 13 \n",
      "addr_state --> 50 \n",
      "initial_list_status --> 2 \n"
     ]
    }
   ],
   "source": [
    "for i in district_cols: #count unique values\n",
    "    print(\"%s --> %d \" %(i,len(df[i].unique())))"
   ]
  },
  {
   "cell_type": "markdown",
   "metadata": {},
   "source": [
    "**loan_status** and **initial_list_status** will be encoded as 1 and 0"
   ]
  },
  {
   "cell_type": "code",
   "execution_count": 14,
   "metadata": {},
   "outputs": [],
   "source": [
    "encoder = LabelEncoder()\n",
    "\n",
    "df = df.replace({'loan_status': {'Charged Off': 1, 'Fully Paid': 0}})\n",
    "\n",
    "df['initial_list_status'] = encoder.fit_transform(df['initial_list_status'])"
   ]
  },
  {
   "cell_type": "code",
   "execution_count": 15,
   "metadata": {},
   "outputs": [],
   "source": [
    "#df.groupby([\"sub_grade\"]).count()"
   ]
  },
  {
   "cell_type": "markdown",
   "metadata": {},
   "source": [
    "-Encoding of categorical attributes with more then 2 unique values"
   ]
  },
  {
   "cell_type": "markdown",
   "metadata": {},
   "source": [
    "For **grade** since the diffrent grades are ordred where A is the highest we will replace G to A with 1 to 7, before we do so we will calculate our base model performance - predicting only by grade"
   ]
  },
  {
   "cell_type": "code",
   "execution_count": 16,
   "metadata": {},
   "outputs": [],
   "source": [
    "base_line_grade = df.groupby([\"grade\"]).agg([\"mean\",\"median\",\"std\",\"min\",\"max\"])[\"realized_return\"]"
   ]
  },
  {
   "cell_type": "code",
   "execution_count": 17,
   "metadata": {},
   "outputs": [],
   "source": [
    "df = df.replace({'grade': {'G': 1, 'F': 2, 'E': 3, 'D': 4, 'C': 5, 'B': 6, 'A': 7}})"
   ]
  },
  {
   "cell_type": "markdown",
   "metadata": {},
   "source": [
    "For now we will not encode thease attributes, so we drop them."
   ]
  },
  {
   "cell_type": "code",
   "execution_count": 18,
   "metadata": {},
   "outputs": [
    {
     "name": "stdout",
     "output_type": "stream",
     "text": [
      "Index(['sub_grade', 'home_ownership', 'verification_status', 'purpose',\n",
      "       'addr_state'],\n",
      "      dtype='object')\n"
     ]
    }
   ],
   "source": [
    "district_cols = df.select_dtypes([np.object]).columns\n",
    "print (district_cols)"
   ]
  },
  {
   "cell_type": "markdown",
   "metadata": {},
   "source": [
    "- sub_grade \n",
    "contains the same inforamtion as grade and 35 diffrent values, for now we will not use it."
   ]
  },
  {
   "cell_type": "code",
   "execution_count": 19,
   "metadata": {},
   "outputs": [],
   "source": [
    "district_cols = district_cols.drop(\"sub_grade\")\n",
    "df.drop([\"sub_grade\"], inplace=True, axis = 1)"
   ]
  },
  {
   "cell_type": "markdown",
   "metadata": {},
   "source": [
    " - addr_state conatain values for 50 states so we will group the states to rigons and use one hot encoding"
   ]
  },
  {
   "cell_type": "code",
   "execution_count": 20,
   "metadata": {},
   "outputs": [],
   "source": [
    "states = {\n",
    "    'ME': 'North East', 'MA': 'North East', 'RI': 'North East', 'CT': 'North East', 'NH': 'North East',\n",
    "    'DC': 'North East', 'VT': 'North East', 'NY': 'North East', 'PA': 'North East', 'NJ': 'North East',\n",
    "    'DE': 'North East', 'MD': 'North East', 'WV': 'South East', 'VA': 'South East', 'KY': 'South East',\n",
    "    'TN': 'South East', 'NC': 'South East', 'SC': 'South East', 'GA': 'South East', 'AL': 'South East',\n",
    "    'MS': 'South East', 'AR': 'South East', 'LA': 'South East', 'FL': 'South East', 'OH': 'Midwest', 'IN': 'Midwest',\n",
    "    'MI': 'Midwest', 'IL': 'Midwest', 'MO': 'Midwest', 'WI': 'Midwest', 'MN': 'Midwest', 'IA': 'Midwest',\n",
    "    'KS': 'Midwest', 'NE': 'Midwest', 'SD': 'Midwest', 'ND': 'Midwest', 'TX': 'Southwest', 'OK': 'Southwest',\n",
    "    'NM': 'Southwest', 'AZ': 'Southwest', 'CO': 'West', 'WY': 'West', 'MT': 'West', 'ID': 'West', 'WA': 'West',\n",
    "    'OR': 'West', 'UT': 'West', 'NV': 'West', 'CA': 'West', 'AK': 'West', 'HI': 'West'\n",
    "}\n",
    "df = df.replace({'addr_state': states})"
   ]
  },
  {
   "cell_type": "markdown",
   "metadata": {},
   "source": [
    "* home_ownership"
   ]
  },
  {
   "cell_type": "code",
   "execution_count": 21,
   "metadata": {},
   "outputs": [
    {
     "data": {
      "text/html": [
       "<div>\n",
       "<style scoped>\n",
       "    .dataframe tbody tr th:only-of-type {\n",
       "        vertical-align: middle;\n",
       "    }\n",
       "\n",
       "    .dataframe tbody tr th {\n",
       "        vertical-align: top;\n",
       "    }\n",
       "\n",
       "    .dataframe thead th {\n",
       "        text-align: right;\n",
       "    }\n",
       "</style>\n",
       "<table border=\"1\" class=\"dataframe\">\n",
       "  <thead>\n",
       "    <tr style=\"text-align: right;\">\n",
       "      <th></th>\n",
       "      <th>loan_amnt</th>\n",
       "    </tr>\n",
       "    <tr>\n",
       "      <th>home_ownership</th>\n",
       "      <th></th>\n",
       "    </tr>\n",
       "  </thead>\n",
       "  <tbody>\n",
       "    <tr>\n",
       "      <th>ANY</th>\n",
       "      <td>58</td>\n",
       "    </tr>\n",
       "    <tr>\n",
       "      <th>MORTGAGE</th>\n",
       "      <td>121648</td>\n",
       "    </tr>\n",
       "    <tr>\n",
       "      <th>OWN</th>\n",
       "      <td>33539</td>\n",
       "    </tr>\n",
       "    <tr>\n",
       "      <th>RENT</th>\n",
       "      <td>109574</td>\n",
       "    </tr>\n",
       "  </tbody>\n",
       "</table>\n",
       "</div>"
      ],
      "text/plain": [
       "                loan_amnt\n",
       "home_ownership           \n",
       "ANY                    58\n",
       "MORTGAGE           121648\n",
       "OWN                 33539\n",
       "RENT               109574"
      ]
     },
     "execution_count": 21,
     "metadata": {},
     "output_type": "execute_result"
    }
   ],
   "source": [
    "df.groupby([\"home_ownership\"]).count()[[\"loan_amnt\"]]"
   ]
  },
  {
   "cell_type": "markdown",
   "metadata": {},
   "source": [
    "\"home_ownership\" has 4 unique values, the value \"ANY\" has 58 insetnes, it is neglegent so we will drop them and use one hot encoding for the column "
   ]
  },
  {
   "cell_type": "code",
   "execution_count": 22,
   "metadata": {},
   "outputs": [],
   "source": [
    "df =df[df[\"home_ownership\"] != \"ANY\" ]    "
   ]
  },
  {
   "cell_type": "markdown",
   "metadata": {},
   "source": [
    "- verification_status"
   ]
  },
  {
   "cell_type": "code",
   "execution_count": 23,
   "metadata": {},
   "outputs": [
    {
     "data": {
      "text/html": [
       "<div>\n",
       "<style scoped>\n",
       "    .dataframe tbody tr th:only-of-type {\n",
       "        vertical-align: middle;\n",
       "    }\n",
       "\n",
       "    .dataframe tbody tr th {\n",
       "        vertical-align: top;\n",
       "    }\n",
       "\n",
       "    .dataframe thead th {\n",
       "        text-align: right;\n",
       "    }\n",
       "</style>\n",
       "<table border=\"1\" class=\"dataframe\">\n",
       "  <thead>\n",
       "    <tr style=\"text-align: right;\">\n",
       "      <th></th>\n",
       "      <th>loan_amnt</th>\n",
       "    </tr>\n",
       "    <tr>\n",
       "      <th>verification_status</th>\n",
       "      <th></th>\n",
       "    </tr>\n",
       "  </thead>\n",
       "  <tbody>\n",
       "    <tr>\n",
       "      <th>Not Verified</th>\n",
       "      <td>74305</td>\n",
       "    </tr>\n",
       "    <tr>\n",
       "      <th>Source Verified</th>\n",
       "      <td>115829</td>\n",
       "    </tr>\n",
       "    <tr>\n",
       "      <th>Verified</th>\n",
       "      <td>74627</td>\n",
       "    </tr>\n",
       "  </tbody>\n",
       "</table>\n",
       "</div>"
      ],
      "text/plain": [
       "                     loan_amnt\n",
       "verification_status           \n",
       "Not Verified             74305\n",
       "Source Verified         115829\n",
       "Verified                 74627"
      ]
     },
     "execution_count": 23,
     "metadata": {},
     "output_type": "execute_result"
    }
   ],
   "source": [
    "df.groupby([\"verification_status\"]).count()[[\"loan_amnt\"]]"
   ]
  },
  {
   "cell_type": "markdown",
   "metadata": {},
   "source": [
    "We will merge \"Source Verified\" and \"Verified\" to  \"Verified\""
   ]
  },
  {
   "cell_type": "code",
   "execution_count": 24,
   "metadata": {},
   "outputs": [],
   "source": [
    "df.verification_status[df[\"verification_status\"] == \"Source Verified\"] = \"Verified\""
   ]
  },
  {
   "cell_type": "code",
   "execution_count": 25,
   "metadata": {},
   "outputs": [],
   "source": [
    "df['verification_status'] = encoder.fit_transform(df['verification_status'])"
   ]
  },
  {
   "cell_type": "markdown",
   "metadata": {},
   "source": [
    " - purpose "
   ]
  },
  {
   "cell_type": "code",
   "execution_count": 26,
   "metadata": {},
   "outputs": [
    {
     "data": {
      "text/html": [
       "<div>\n",
       "<style scoped>\n",
       "    .dataframe tbody tr th:only-of-type {\n",
       "        vertical-align: middle;\n",
       "    }\n",
       "\n",
       "    .dataframe tbody tr th {\n",
       "        vertical-align: top;\n",
       "    }\n",
       "\n",
       "    .dataframe thead tr th {\n",
       "        text-align: left;\n",
       "    }\n",
       "\n",
       "    .dataframe thead tr:last-of-type th {\n",
       "        text-align: right;\n",
       "    }\n",
       "</style>\n",
       "<table border=\"1\" class=\"dataframe\">\n",
       "  <thead>\n",
       "    <tr>\n",
       "      <th></th>\n",
       "      <th>loan_status</th>\n",
       "    </tr>\n",
       "    <tr>\n",
       "      <th></th>\n",
       "      <th>count</th>\n",
       "    </tr>\n",
       "    <tr>\n",
       "      <th>purpose</th>\n",
       "      <th></th>\n",
       "    </tr>\n",
       "  </thead>\n",
       "  <tbody>\n",
       "    <tr>\n",
       "      <th>car</th>\n",
       "      <td>3305</td>\n",
       "    </tr>\n",
       "    <tr>\n",
       "      <th>credit_card</th>\n",
       "      <td>57098</td>\n",
       "    </tr>\n",
       "    <tr>\n",
       "      <th>debt_consolidation</th>\n",
       "      <td>146266</td>\n",
       "    </tr>\n",
       "    <tr>\n",
       "      <th>home_improvement</th>\n",
       "      <td>19116</td>\n",
       "    </tr>\n",
       "    <tr>\n",
       "      <th>house</th>\n",
       "      <td>1259</td>\n",
       "    </tr>\n",
       "    <tr>\n",
       "      <th>major_purchase</th>\n",
       "      <td>6749</td>\n",
       "    </tr>\n",
       "    <tr>\n",
       "      <th>medical</th>\n",
       "      <td>3618</td>\n",
       "    </tr>\n",
       "    <tr>\n",
       "      <th>moving</th>\n",
       "      <td>2328</td>\n",
       "    </tr>\n",
       "    <tr>\n",
       "      <th>other</th>\n",
       "      <td>19380</td>\n",
       "    </tr>\n",
       "    <tr>\n",
       "      <th>renewable_energy</th>\n",
       "      <td>204</td>\n",
       "    </tr>\n",
       "    <tr>\n",
       "      <th>small_business</th>\n",
       "      <td>3029</td>\n",
       "    </tr>\n",
       "    <tr>\n",
       "      <th>vacation</th>\n",
       "      <td>2408</td>\n",
       "    </tr>\n",
       "    <tr>\n",
       "      <th>wedding</th>\n",
       "      <td>1</td>\n",
       "    </tr>\n",
       "  </tbody>\n",
       "</table>\n",
       "</div>"
      ],
      "text/plain": [
       "                   loan_status\n",
       "                         count\n",
       "purpose                       \n",
       "car                       3305\n",
       "credit_card              57098\n",
       "debt_consolidation      146266\n",
       "home_improvement         19116\n",
       "house                     1259\n",
       "major_purchase            6749\n",
       "medical                   3618\n",
       "moving                    2328\n",
       "other                    19380\n",
       "renewable_energy           204\n",
       "small_business            3029\n",
       "vacation                  2408\n",
       "wedding                      1"
      ]
     },
     "execution_count": 26,
     "metadata": {},
     "output_type": "execute_result"
    }
   ],
   "source": [
    "df.groupby([\"purpose\"]).agg(['count'])[[\"loan_status\"]]"
   ]
  },
  {
   "cell_type": "markdown",
   "metadata": {},
   "source": [
    "We can see that ‘wedding’ has only 1 instance, and ‘renewable_energy’ has only 204. We decided that it won’t be helpful for our model and decided to remove rows of these values at. After that we will check for each remaining values how many of them has are fully paid of and default and the distribution of their realized return, looking for a possible way to group to values"
   ]
  },
  {
   "cell_type": "code",
   "execution_count": 27,
   "metadata": {},
   "outputs": [],
   "source": [
    "df =df[-df.purpose.isin( [\"wedding\", \"renewable_energy\"])]"
   ]
  },
  {
   "cell_type": "code",
   "execution_count": 28,
   "metadata": {},
   "outputs": [
    {
     "data": {
      "text/plain": [
       "Text(0.5, 1.0, 'Realized return by purpose')"
      ]
     },
     "execution_count": 28,
     "metadata": {},
     "output_type": "execute_result"
    },
    {
     "data": {
      "image/png": "[encoded data removed]",
      "text/plain": [
       "<Figure size 1152x432 with 1 Axes>"
      ]
     },
     "metadata": {
      "needs_background": "light"
     },
     "output_type": "display_data"
    }
   ],
   "source": [
    "plt.figure(figsize=(16, 6))\n",
    "sns.boxenplot(x = \"realized_return\", y = \"purpose\" , data = df)\n",
    "plt.title(\"Realized return by purpose\")"
   ]
  },
  {
   "cell_type": "markdown",
   "metadata": {},
   "source": [
    "We can see the realized return distrbution is more or a less the same for each purpose"
   ]
  },
  {
   "cell_type": "code",
   "execution_count": 29,
   "metadata": {},
   "outputs": [
    {
     "data": {
      "image/png": "[encoded data removed]",
      "text/plain": [
       "<Figure size 432x288 with 1 Axes>"
      ]
     },
     "metadata": {
      "needs_background": "light"
     },
     "output_type": "display_data"
    }
   ],
   "source": [
    "grouped_purpose = df.groupby([\"purpose\"])['loan_status'].aggregate(np.mean).reset_index().sort_values('loan_status')\n",
    "\n",
    "s = sns.barplot(x= \"loan_status\", y =\"purpose\" , data = grouped_purpose)\n",
    "plt.axvline(x=0.1636)\n",
    "plt.axvline(x=0.1952)\n",
    "plt.title(\"Default rate by purpose\")\n",
    "plt.xlabel(\"Default rate\")\n",
    "# s.set_xticklabels(s.get_xticklabels(),rotation=45)\n",
    "plt.show()"
   ]
  },
  {
   "cell_type": "markdown",
   "metadata": {},
   "source": [
    "The lines seen on the plot will be our separting cratiria for the \"puropse\" values, values will be divided to theaese 3 subgroups decided by their deafualt rate, labled 1,2 and 3."
   ]
  },
  {
   "cell_type": "code",
   "execution_count": 30,
   "metadata": {},
   "outputs": [],
   "source": [
    "df = df.replace({'purpose': {'car': 1, 'credit_card': 1, 'home_improvement': 1, 'major_purchase': 1, 'debt_consolidation': 2, 'other': 2,\n",
    "                             'vacation': 2, 'medical': 3, 'moving': 3,\n",
    "                             'house': 3, 'small_business': 3}})"
   ]
  },
  {
   "cell_type": "code",
   "execution_count": 31,
   "metadata": {},
   "outputs": [],
   "source": [
    "district_cols = district_cols.drop(\"purpose\")"
   ]
  },
  {
   "cell_type": "markdown",
   "metadata": {},
   "source": [
    "For 'home_ownership', 'verification_status' and 'addr_state' we will use one hot encoding"
   ]
  },
  {
   "cell_type": "code",
   "execution_count": 32,
   "metadata": {},
   "outputs": [],
   "source": [
    "for col in district_cols:\n",
    "    dummies = pd.get_dummies(df[col])\n",
    "    df = pd.concat([df, dummies], axis=1)\n",
    "    df.drop(col, axis=1, inplace=True)"
   ]
  },
  {
   "cell_type": "markdown",
   "metadata": {},
   "source": [
    "# Dealing with outliers"
   ]
  },
  {
   "cell_type": "markdown",
   "metadata": {},
   "source": [
    "Before detecting outliers we want to recall the distrabution of the realized return between fully paid and defualted loans"
   ]
  },
  {
   "cell_type": "code",
   "execution_count": 33,
   "metadata": {},
   "outputs": [],
   "source": [
    "df_paid = df[df[\"loan_status\"] == 0]\n",
    "df_default = df[df[\"loan_status\"] == 1]"
   ]
  },
  {
   "cell_type": "code",
   "execution_count": 34,
   "metadata": {},
   "outputs": [
    {
     "name": "stdout",
     "output_type": "stream",
     "text": [
      "The precentege of fully paid loans with more then 2 precent realized return is 98.996\n"
     ]
    }
   ],
   "source": [
    "print(\"The precentege of fully paid loans with more then 2 precent realized return is %.3f\" % (sum(df_paid[\"realized_return\"] > 0.02)/len(df_paid.index) * 100))"
   ]
  },
  {
   "cell_type": "code",
   "execution_count": 35,
   "metadata": {},
   "outputs": [
    {
     "name": "stdout",
     "output_type": "stream",
     "text": [
      "The precentege of defauted loans with more then 2 precent realized return is 4.999\n"
     ]
    }
   ],
   "source": [
    "print(\"The precentege of defauted loans with more then 2 precent realized return is %.3f\" % (sum(df_default[\"realized_return\"] > 0.02)/len(df_default.index) * 100))"
   ]
  },
  {
   "cell_type": "markdown",
   "metadata": {},
   "source": [
    "From this we understand that the majuraty of loans we want to avoid are deaflted, with only 5% of them with good realized return, meaning thease are the loans we want to detect so we can avoid them. In addition this also mean tht if we do a good job detecting fully paid loans, 99% of them will yield us more then 2%.\n"
   ]
  },
  {
   "cell_type": "markdown",
   "metadata": {},
   "source": [
    "We detect ouliers using gauusian (3 SD from the mean) method and IQR"
   ]
  },
  {
   "cell_type": "code",
   "execution_count": 36,
   "metadata": {},
   "outputs": [],
   "source": [
    "Q1 = df.quantile(0.25)\n",
    "Q3 = df.quantile(0.75)\n",
    "IQR = Q3 - Q1\n",
    "df1_outliers_iqr = (df < (Q1 - 1.5 * IQR)) | (df > (Q3 + 1.5 * IQR))\n",
    "df1_outliers_gauss = pd.DataFrame(np.abs(zscore(df)) > 3)\n",
    "df1_outliers_gauss.columns = df1_outliers_iqr.columns"
   ]
  },
  {
   "cell_type": "code",
   "execution_count": 37,
   "metadata": {},
   "outputs": [
    {
     "data": {
      "text/html": [
       "<div>\n",
       "<style scoped>\n",
       "    .dataframe tbody tr th:only-of-type {\n",
       "        vertical-align: middle;\n",
       "    }\n",
       "\n",
       "    .dataframe tbody tr th {\n",
       "        vertical-align: top;\n",
       "    }\n",
       "\n",
       "    .dataframe thead th {\n",
       "        text-align: right;\n",
       "    }\n",
       "</style>\n",
       "<table border=\"1\" class=\"dataframe\">\n",
       "  <thead>\n",
       "    <tr style=\"text-align: right;\">\n",
       "      <th></th>\n",
       "      <th>Columns</th>\n",
       "      <th>IQR Outliers</th>\n",
       "      <th>Prop IQR Outliers</th>\n",
       "      <th>Gaussian Outliers</th>\n",
       "      <th>Prop Gauss Outliers</th>\n",
       "    </tr>\n",
       "  </thead>\n",
       "  <tbody>\n",
       "    <tr>\n",
       "      <th>42</th>\n",
       "      <td>realized_return</td>\n",
       "      <td>44529</td>\n",
       "      <td>0.1683</td>\n",
       "      <td>7546</td>\n",
       "      <td>0.0285</td>\n",
       "    </tr>\n",
       "    <tr>\n",
       "      <th>25</th>\n",
       "      <td>bc_open_to_buy</td>\n",
       "      <td>22389</td>\n",
       "      <td>0.0846</td>\n",
       "      <td>5726</td>\n",
       "      <td>0.0216</td>\n",
       "    </tr>\n",
       "    <tr>\n",
       "      <th>35</th>\n",
       "      <td>pct_tl_nvr_dlq</td>\n",
       "      <td>15417</td>\n",
       "      <td>0.0583</td>\n",
       "      <td>5161</td>\n",
       "      <td>0.0195</td>\n",
       "    </tr>\n",
       "    <tr>\n",
       "      <th>40</th>\n",
       "      <td>total_bc_limit</td>\n",
       "      <td>16660</td>\n",
       "      <td>0.0630</td>\n",
       "      <td>5147</td>\n",
       "      <td>0.0195</td>\n",
       "    </tr>\n",
       "    <tr>\n",
       "      <th>19</th>\n",
       "      <td>total_bal_il</td>\n",
       "      <td>16640</td>\n",
       "      <td>0.0629</td>\n",
       "      <td>5042</td>\n",
       "      <td>0.0191</td>\n",
       "    </tr>\n",
       "    <tr>\n",
       "      <th>39</th>\n",
       "      <td>total_bal_ex_mort</td>\n",
       "      <td>15864</td>\n",
       "      <td>0.0600</td>\n",
       "      <td>4876</td>\n",
       "      <td>0.0184</td>\n",
       "    </tr>\n",
       "    <tr>\n",
       "      <th>29</th>\n",
       "      <td>num_bc_sats</td>\n",
       "      <td>13071</td>\n",
       "      <td>0.0494</td>\n",
       "      <td>4785</td>\n",
       "      <td>0.0181</td>\n",
       "    </tr>\n",
       "    <tr>\n",
       "      <th>24</th>\n",
       "      <td>avg_cur_bal</td>\n",
       "      <td>15722</td>\n",
       "      <td>0.0594</td>\n",
       "      <td>4765</td>\n",
       "      <td>0.0180</td>\n",
       "    </tr>\n",
       "    <tr>\n",
       "      <th>27</th>\n",
       "      <td>mort_acc</td>\n",
       "      <td>9679</td>\n",
       "      <td>0.0366</td>\n",
       "      <td>4761</td>\n",
       "      <td>0.0180</td>\n",
       "    </tr>\n",
       "    <tr>\n",
       "      <th>41</th>\n",
       "      <td>total_il_high_credit_limit</td>\n",
       "      <td>13743</td>\n",
       "      <td>0.0519</td>\n",
       "      <td>4655</td>\n",
       "      <td>0.0176</td>\n",
       "    </tr>\n",
       "    <tr>\n",
       "      <th>9</th>\n",
       "      <td>delinq_2yrs</td>\n",
       "      <td>55811</td>\n",
       "      <td>0.2110</td>\n",
       "      <td>4327</td>\n",
       "      <td>0.0164</td>\n",
       "    </tr>\n",
       "    <tr>\n",
       "      <th>23</th>\n",
       "      <td>total_rev_hi_lim</td>\n",
       "      <td>16444</td>\n",
       "      <td>0.0622</td>\n",
       "      <td>4218</td>\n",
       "      <td>0.0159</td>\n",
       "    </tr>\n",
       "    <tr>\n",
       "      <th>21</th>\n",
       "      <td>max_bal_bc</td>\n",
       "      <td>16918</td>\n",
       "      <td>0.0639</td>\n",
       "      <td>4125</td>\n",
       "      <td>0.0156</td>\n",
       "    </tr>\n",
       "    <tr>\n",
       "      <th>11</th>\n",
       "      <td>fico_range_high</td>\n",
       "      <td>9096</td>\n",
       "      <td>0.0344</td>\n",
       "      <td>4090</td>\n",
       "      <td>0.0155</td>\n",
       "    </tr>\n",
       "    <tr>\n",
       "      <th>10</th>\n",
       "      <td>fico_range_low</td>\n",
       "      <td>9096</td>\n",
       "      <td>0.0344</td>\n",
       "      <td>4090</td>\n",
       "      <td>0.0155</td>\n",
       "    </tr>\n",
       "    <tr>\n",
       "      <th>18</th>\n",
       "      <td>tot_cur_bal</td>\n",
       "      <td>11104</td>\n",
       "      <td>0.0420</td>\n",
       "      <td>4068</td>\n",
       "      <td>0.0154</td>\n",
       "    </tr>\n",
       "    <tr>\n",
       "      <th>28</th>\n",
       "      <td>num_actv_bc_tl</td>\n",
       "      <td>6088</td>\n",
       "      <td>0.0230</td>\n",
       "      <td>3812</td>\n",
       "      <td>0.0144</td>\n",
       "    </tr>\n",
       "    <tr>\n",
       "      <th>38</th>\n",
       "      <td>tot_hi_cred_lim</td>\n",
       "      <td>10836</td>\n",
       "      <td>0.0410</td>\n",
       "      <td>3709</td>\n",
       "      <td>0.0140</td>\n",
       "    </tr>\n",
       "    <tr>\n",
       "      <th>30</th>\n",
       "      <td>num_bc_tl</td>\n",
       "      <td>6121</td>\n",
       "      <td>0.0231</td>\n",
       "      <td>3702</td>\n",
       "      <td>0.0140</td>\n",
       "    </tr>\n",
       "    <tr>\n",
       "      <th>13</th>\n",
       "      <td>pub_rec</td>\n",
       "      <td>51963</td>\n",
       "      <td>0.1964</td>\n",
       "      <td>3676</td>\n",
       "      <td>0.0139</td>\n",
       "    </tr>\n",
       "    <tr>\n",
       "      <th>33</th>\n",
       "      <td>num_rev_tl_bal_gt_0</td>\n",
       "      <td>7165</td>\n",
       "      <td>0.0271</td>\n",
       "      <td>3672</td>\n",
       "      <td>0.0139</td>\n",
       "    </tr>\n",
       "    <tr>\n",
       "      <th>12</th>\n",
       "      <td>open_acc</td>\n",
       "      <td>6849</td>\n",
       "      <td>0.0259</td>\n",
       "      <td>3661</td>\n",
       "      <td>0.0138</td>\n",
       "    </tr>\n",
       "    <tr>\n",
       "      <th>14</th>\n",
       "      <td>revol_bal</td>\n",
       "      <td>18613</td>\n",
       "      <td>0.0704</td>\n",
       "      <td>3648</td>\n",
       "      <td>0.0138</td>\n",
       "    </tr>\n",
       "    <tr>\n",
       "      <th>31</th>\n",
       "      <td>num_op_rev_tl</td>\n",
       "      <td>12068</td>\n",
       "      <td>0.0456</td>\n",
       "      <td>3643</td>\n",
       "      <td>0.0138</td>\n",
       "    </tr>\n",
       "    <tr>\n",
       "      <th>34</th>\n",
       "      <td>num_sats</td>\n",
       "      <td>10208</td>\n",
       "      <td>0.0386</td>\n",
       "      <td>3576</td>\n",
       "      <td>0.0135</td>\n",
       "    </tr>\n",
       "    <tr>\n",
       "      <th>32</th>\n",
       "      <td>num_rev_accts</td>\n",
       "      <td>7244</td>\n",
       "      <td>0.0274</td>\n",
       "      <td>3493</td>\n",
       "      <td>0.0132</td>\n",
       "    </tr>\n",
       "    <tr>\n",
       "      <th>20</th>\n",
       "      <td>il_util</td>\n",
       "      <td>11673</td>\n",
       "      <td>0.0441</td>\n",
       "      <td>3299</td>\n",
       "      <td>0.0125</td>\n",
       "    </tr>\n",
       "    <tr>\n",
       "      <th>37</th>\n",
       "      <td>pub_rec_bankruptcies</td>\n",
       "      <td>35323</td>\n",
       "      <td>0.1335</td>\n",
       "      <td>2841</td>\n",
       "      <td>0.0107</td>\n",
       "    </tr>\n",
       "    <tr>\n",
       "      <th>1</th>\n",
       "      <td>int_rate</td>\n",
       "      <td>7003</td>\n",
       "      <td>0.0265</td>\n",
       "      <td>2758</td>\n",
       "      <td>0.0104</td>\n",
       "    </tr>\n",
       "    <tr>\n",
       "      <th>3</th>\n",
       "      <td>grade</td>\n",
       "      <td>11279</td>\n",
       "      <td>0.0426</td>\n",
       "      <td>2575</td>\n",
       "      <td>0.0097</td>\n",
       "    </tr>\n",
       "    <tr>\n",
       "      <th>43</th>\n",
       "      <td>cr_hist</td>\n",
       "      <td>8087</td>\n",
       "      <td>0.0306</td>\n",
       "      <td>2525</td>\n",
       "      <td>0.0095</td>\n",
       "    </tr>\n",
       "    <tr>\n",
       "      <th>17</th>\n",
       "      <td>tot_coll_amt</td>\n",
       "      <td>47489</td>\n",
       "      <td>0.1795</td>\n",
       "      <td>2455</td>\n",
       "      <td>0.0093</td>\n",
       "    </tr>\n",
       "    <tr>\n",
       "      <th>2</th>\n",
       "      <td>installment</td>\n",
       "      <td>9675</td>\n",
       "      <td>0.0366</td>\n",
       "      <td>1954</td>\n",
       "      <td>0.0074</td>\n",
       "    </tr>\n",
       "    <tr>\n",
       "      <th>5</th>\n",
       "      <td>annual_inc</td>\n",
       "      <td>13103</td>\n",
       "      <td>0.0495</td>\n",
       "      <td>1881</td>\n",
       "      <td>0.0071</td>\n",
       "    </tr>\n",
       "    <tr>\n",
       "      <th>0</th>\n",
       "      <td>loan_amnt</td>\n",
       "      <td>10069</td>\n",
       "      <td>0.0381</td>\n",
       "      <td>1555</td>\n",
       "      <td>0.0059</td>\n",
       "    </tr>\n",
       "    <tr>\n",
       "      <th>8</th>\n",
       "      <td>dti</td>\n",
       "      <td>906</td>\n",
       "      <td>0.0034</td>\n",
       "      <td>729</td>\n",
       "      <td>0.0028</td>\n",
       "    </tr>\n",
       "    <tr>\n",
       "      <th>22</th>\n",
       "      <td>all_util</td>\n",
       "      <td>1599</td>\n",
       "      <td>0.0060</td>\n",
       "      <td>327</td>\n",
       "      <td>0.0012</td>\n",
       "    </tr>\n",
       "    <tr>\n",
       "      <th>26</th>\n",
       "      <td>bc_util</td>\n",
       "      <td>18</td>\n",
       "      <td>0.0001</td>\n",
       "      <td>23</td>\n",
       "      <td>0.0001</td>\n",
       "    </tr>\n",
       "    <tr>\n",
       "      <th>15</th>\n",
       "      <td>revol_util</td>\n",
       "      <td>19</td>\n",
       "      <td>0.0001</td>\n",
       "      <td>19</td>\n",
       "      <td>0.0001</td>\n",
       "    </tr>\n",
       "    <tr>\n",
       "      <th>46</th>\n",
       "      <td>RENT</td>\n",
       "      <td>0</td>\n",
       "      <td>0.0000</td>\n",
       "      <td>0</td>\n",
       "      <td>0.0000</td>\n",
       "    </tr>\n",
       "    <tr>\n",
       "      <th>52</th>\n",
       "      <td>Southwest</td>\n",
       "      <td>33017</td>\n",
       "      <td>0.1248</td>\n",
       "      <td>0</td>\n",
       "      <td>0.0000</td>\n",
       "    </tr>\n",
       "    <tr>\n",
       "      <th>51</th>\n",
       "      <td>South East</td>\n",
       "      <td>63249</td>\n",
       "      <td>0.2391</td>\n",
       "      <td>0</td>\n",
       "      <td>0.0000</td>\n",
       "    </tr>\n",
       "    <tr>\n",
       "      <th>50</th>\n",
       "      <td>North East</td>\n",
       "      <td>60317</td>\n",
       "      <td>0.2280</td>\n",
       "      <td>0</td>\n",
       "      <td>0.0000</td>\n",
       "    </tr>\n",
       "    <tr>\n",
       "      <th>49</th>\n",
       "      <td>Midwest</td>\n",
       "      <td>47919</td>\n",
       "      <td>0.1811</td>\n",
       "      <td>0</td>\n",
       "      <td>0.0000</td>\n",
       "    </tr>\n",
       "    <tr>\n",
       "      <th>48</th>\n",
       "      <td>1</td>\n",
       "      <td>0</td>\n",
       "      <td>0.0000</td>\n",
       "      <td>0</td>\n",
       "      <td>0.0000</td>\n",
       "    </tr>\n",
       "    <tr>\n",
       "      <th>47</th>\n",
       "      <td>0</td>\n",
       "      <td>0</td>\n",
       "      <td>0.0000</td>\n",
       "      <td>0</td>\n",
       "      <td>0.0000</td>\n",
       "    </tr>\n",
       "    <tr>\n",
       "      <th>44</th>\n",
       "      <td>MORTGAGE</td>\n",
       "      <td>0</td>\n",
       "      <td>0.0000</td>\n",
       "      <td>0</td>\n",
       "      <td>0.0000</td>\n",
       "    </tr>\n",
       "    <tr>\n",
       "      <th>45</th>\n",
       "      <td>OWN</td>\n",
       "      <td>33517</td>\n",
       "      <td>0.1267</td>\n",
       "      <td>0</td>\n",
       "      <td>0.0000</td>\n",
       "    </tr>\n",
       "    <tr>\n",
       "      <th>36</th>\n",
       "      <td>percent_bc_gt_75</td>\n",
       "      <td>0</td>\n",
       "      <td>0.0000</td>\n",
       "      <td>0</td>\n",
       "      <td>0.0000</td>\n",
       "    </tr>\n",
       "    <tr>\n",
       "      <th>4</th>\n",
       "      <td>emp_length</td>\n",
       "      <td>0</td>\n",
       "      <td>0.0000</td>\n",
       "      <td>0</td>\n",
       "      <td>0.0000</td>\n",
       "    </tr>\n",
       "    <tr>\n",
       "      <th>6</th>\n",
       "      <td>loan_status</td>\n",
       "      <td>47310</td>\n",
       "      <td>0.1788</td>\n",
       "      <td>0</td>\n",
       "      <td>0.0000</td>\n",
       "    </tr>\n",
       "    <tr>\n",
       "      <th>7</th>\n",
       "      <td>purpose</td>\n",
       "      <td>0</td>\n",
       "      <td>0.0000</td>\n",
       "      <td>0</td>\n",
       "      <td>0.0000</td>\n",
       "    </tr>\n",
       "    <tr>\n",
       "      <th>16</th>\n",
       "      <td>initial_list_status</td>\n",
       "      <td>0</td>\n",
       "      <td>0.0000</td>\n",
       "      <td>0</td>\n",
       "      <td>0.0000</td>\n",
       "    </tr>\n",
       "    <tr>\n",
       "      <th>53</th>\n",
       "      <td>West</td>\n",
       "      <td>60054</td>\n",
       "      <td>0.2270</td>\n",
       "      <td>0</td>\n",
       "      <td>0.0000</td>\n",
       "    </tr>\n",
       "  </tbody>\n",
       "</table>\n",
       "</div>"
      ],
      "text/plain": [
       "                       Columns  IQR Outliers  Prop IQR Outliers  \\\n",
       "42             realized_return         44529             0.1683   \n",
       "25              bc_open_to_buy         22389             0.0846   \n",
       "35              pct_tl_nvr_dlq         15417             0.0583   \n",
       "40              total_bc_limit         16660             0.0630   \n",
       "19                total_bal_il         16640             0.0629   \n",
       "39           total_bal_ex_mort         15864             0.0600   \n",
       "29                 num_bc_sats         13071             0.0494   \n",
       "24                 avg_cur_bal         15722             0.0594   \n",
       "27                    mort_acc          9679             0.0366   \n",
       "41  total_il_high_credit_limit         13743             0.0519   \n",
       "9                  delinq_2yrs         55811             0.2110   \n",
       "23            total_rev_hi_lim         16444             0.0622   \n",
       "21                  max_bal_bc         16918             0.0639   \n",
       "11             fico_range_high          9096             0.0344   \n",
       "10              fico_range_low          9096             0.0344   \n",
       "18                 tot_cur_bal         11104             0.0420   \n",
       "28              num_actv_bc_tl          6088             0.0230   \n",
       "38             tot_hi_cred_lim         10836             0.0410   \n",
       "30                   num_bc_tl          6121             0.0231   \n",
       "13                     pub_rec         51963             0.1964   \n",
       "33         num_rev_tl_bal_gt_0          7165             0.0271   \n",
       "12                    open_acc          6849             0.0259   \n",
       "14                   revol_bal         18613             0.0704   \n",
       "31               num_op_rev_tl         12068             0.0456   \n",
       "34                    num_sats         10208             0.0386   \n",
       "32               num_rev_accts          7244             0.0274   \n",
       "20                     il_util         11673             0.0441   \n",
       "37        pub_rec_bankruptcies         35323             0.1335   \n",
       "1                     int_rate          7003             0.0265   \n",
       "3                        grade         11279             0.0426   \n",
       "43                     cr_hist          8087             0.0306   \n",
       "17                tot_coll_amt         47489             0.1795   \n",
       "2                  installment          9675             0.0366   \n",
       "5                   annual_inc         13103             0.0495   \n",
       "0                    loan_amnt         10069             0.0381   \n",
       "8                          dti           906             0.0034   \n",
       "22                    all_util          1599             0.0060   \n",
       "26                     bc_util            18             0.0001   \n",
       "15                  revol_util            19             0.0001   \n",
       "46                        RENT             0             0.0000   \n",
       "52                   Southwest         33017             0.1248   \n",
       "51                  South East         63249             0.2391   \n",
       "50                  North East         60317             0.2280   \n",
       "49                     Midwest         47919             0.1811   \n",
       "48                           1             0             0.0000   \n",
       "47                           0             0             0.0000   \n",
       "44                    MORTGAGE             0             0.0000   \n",
       "45                         OWN         33517             0.1267   \n",
       "36            percent_bc_gt_75             0             0.0000   \n",
       "4                   emp_length             0             0.0000   \n",
       "6                  loan_status         47310             0.1788   \n",
       "7                      purpose             0             0.0000   \n",
       "16         initial_list_status             0             0.0000   \n",
       "53                        West         60054             0.2270   \n",
       "\n",
       "    Gaussian Outliers  Prop Gauss Outliers  \n",
       "42               7546               0.0285  \n",
       "25               5726               0.0216  \n",
       "35               5161               0.0195  \n",
       "40               5147               0.0195  \n",
       "19               5042               0.0191  \n",
       "39               4876               0.0184  \n",
       "29               4785               0.0181  \n",
       "24               4765               0.0180  \n",
       "27               4761               0.0180  \n",
       "41               4655               0.0176  \n",
       "9                4327               0.0164  \n",
       "23               4218               0.0159  \n",
       "21               4125               0.0156  \n",
       "11               4090               0.0155  \n",
       "10               4090               0.0155  \n",
       "18               4068               0.0154  \n",
       "28               3812               0.0144  \n",
       "38               3709               0.0140  \n",
       "30               3702               0.0140  \n",
       "13               3676               0.0139  \n",
       "33               3672               0.0139  \n",
       "12               3661               0.0138  \n",
       "14               3648               0.0138  \n",
       "31               3643               0.0138  \n",
       "34               3576               0.0135  \n",
       "32               3493               0.0132  \n",
       "20               3299               0.0125  \n",
       "37               2841               0.0107  \n",
       "1                2758               0.0104  \n",
       "3                2575               0.0097  \n",
       "43               2525               0.0095  \n",
       "17               2455               0.0093  \n",
       "2                1954               0.0074  \n",
       "5                1881               0.0071  \n",
       "0                1555               0.0059  \n",
       "8                 729               0.0028  \n",
       "22                327               0.0012  \n",
       "26                 23               0.0001  \n",
       "15                 19               0.0001  \n",
       "46                  0               0.0000  \n",
       "52                  0               0.0000  \n",
       "51                  0               0.0000  \n",
       "50                  0               0.0000  \n",
       "49                  0               0.0000  \n",
       "48                  0               0.0000  \n",
       "47                  0               0.0000  \n",
       "44                  0               0.0000  \n",
       "45                  0               0.0000  \n",
       "36                  0               0.0000  \n",
       "4                   0               0.0000  \n",
       "6                   0               0.0000  \n",
       "7                   0               0.0000  \n",
       "16                  0               0.0000  \n",
       "53                  0               0.0000  "
      ]
     },
     "execution_count": 37,
     "metadata": {},
     "output_type": "execute_result"
    }
   ],
   "source": [
    "columns, iqr_outliers, gauss_outliers = [], [], [] #create lists to store outliers count values\n",
    "\n",
    "for col in df1_outliers_iqr.columns: #loop on all columns to get outlires counts for both methods\n",
    "    columns.append(col)\n",
    "    iqr_outliers.append(df1_outliers_iqr[col].sum())\n",
    "    gauss_outliers.append(df1_outliers_gauss[col].sum())\n",
    "\n",
    "prop_outliers_iqr = np.array(iqr_outliers)/len(df1_outliers_iqr.index) #Calculate fractions\n",
    "prop_outliers_gauss = np.array(gauss_outliers)/len(df1_outliers_gauss.index)\n",
    "df_outliers = pd.DataFrame({'Columns': columns, 'IQR Outliers': iqr_outliers, 'Prop IQR Outliers': prop_outliers_iqr, #create df\n",
    "                            'Gaussian Outliers': gauss_outliers, 'Prop Gauss Outliers': prop_outliers_gauss})\n",
    "\n",
    "df_outliers.sort_values(\"Gaussian Outliers\", ascending = False)"
   ]
  },
  {
   "cell_type": "markdown",
   "metadata": {},
   "source": [
    "As seen from the table above, there are many more outliers using the IQR method. removing outlires simply based on the IQR cratiria will leave us with significantly less data to work with, even if we increse the threshold. therefor we will focus on the gaussian method results. out target column - relized_return, has the highest number of outliers using this method. before making any rush decidions we wanted to check the nature of the outliers in each columns - are they fully paid or charged off?"
   ]
  },
  {
   "cell_type": "code",
   "execution_count": 38,
   "metadata": {},
   "outputs": [],
   "source": [
    "# df1_inliers_gauss = pd.DataFrame(np.abs(zscore(df)) <= 3)\n",
    "# df1_inliers_gauss.columns = df1_outliers_gauss.columns\n",
    "# df2 = df.copy()\n",
    "\n",
    "# for col in df2.columns:\n",
    "#     if col == 'ann_exp_return':\n",
    "#         df2 = df2[df1_inliers_gauss[col]]\n",
    "#     else:\n",
    "#         pass\n",
    "\n",
    "# print(df2['loan_status'].value_counts())"
   ]
  },
  {
   "cell_type": "code",
   "execution_count": 39,
   "metadata": {},
   "outputs": [
    {
     "data": {
      "text/html": [
       "<div>\n",
       "<style scoped>\n",
       "    .dataframe tbody tr th:only-of-type {\n",
       "        vertical-align: middle;\n",
       "    }\n",
       "\n",
       "    .dataframe tbody tr th {\n",
       "        vertical-align: top;\n",
       "    }\n",
       "\n",
       "    .dataframe thead th {\n",
       "        text-align: right;\n",
       "    }\n",
       "</style>\n",
       "<table border=\"1\" class=\"dataframe\">\n",
       "  <thead>\n",
       "    <tr style=\"text-align: right;\">\n",
       "      <th></th>\n",
       "      <th>Columns</th>\n",
       "      <th>Fully_paid</th>\n",
       "      <th>Default</th>\n",
       "      <th>frac</th>\n",
       "    </tr>\n",
       "  </thead>\n",
       "  <tbody>\n",
       "    <tr>\n",
       "      <th>7</th>\n",
       "      <td>fico_range_low</td>\n",
       "      <td>3887</td>\n",
       "      <td>203</td>\n",
       "      <td>0.0496</td>\n",
       "    </tr>\n",
       "    <tr>\n",
       "      <th>8</th>\n",
       "      <td>fico_range_high</td>\n",
       "      <td>3887</td>\n",
       "      <td>203</td>\n",
       "      <td>0.0496</td>\n",
       "    </tr>\n",
       "    <tr>\n",
       "      <th>21</th>\n",
       "      <td>bc_open_to_buy</td>\n",
       "      <td>5324</td>\n",
       "      <td>402</td>\n",
       "      <td>0.0702</td>\n",
       "    </tr>\n",
       "    <tr>\n",
       "      <th>35</th>\n",
       "      <td>total_bc_limit</td>\n",
       "      <td>4673</td>\n",
       "      <td>474</td>\n",
       "      <td>0.0921</td>\n",
       "    </tr>\n",
       "    <tr>\n",
       "      <th>20</th>\n",
       "      <td>avg_cur_bal</td>\n",
       "      <td>4317</td>\n",
       "      <td>448</td>\n",
       "      <td>0.0940</td>\n",
       "    </tr>\n",
       "    <tr>\n",
       "      <th>19</th>\n",
       "      <td>total_rev_hi_lim</td>\n",
       "      <td>3798</td>\n",
       "      <td>420</td>\n",
       "      <td>0.0996</td>\n",
       "    </tr>\n",
       "    <tr>\n",
       "      <th>33</th>\n",
       "      <td>tot_hi_cred_lim</td>\n",
       "      <td>3339</td>\n",
       "      <td>370</td>\n",
       "      <td>0.0998</td>\n",
       "    </tr>\n",
       "    <tr>\n",
       "      <th>14</th>\n",
       "      <td>tot_cur_bal</td>\n",
       "      <td>3648</td>\n",
       "      <td>420</td>\n",
       "      <td>0.1032</td>\n",
       "    </tr>\n",
       "    <tr>\n",
       "      <th>23</th>\n",
       "      <td>mort_acc</td>\n",
       "      <td>4228</td>\n",
       "      <td>533</td>\n",
       "      <td>0.1120</td>\n",
       "    </tr>\n",
       "    <tr>\n",
       "      <th>11</th>\n",
       "      <td>revol_bal</td>\n",
       "      <td>3238</td>\n",
       "      <td>410</td>\n",
       "      <td>0.1124</td>\n",
       "    </tr>\n",
       "    <tr>\n",
       "      <th>4</th>\n",
       "      <td>annual_inc</td>\n",
       "      <td>1669</td>\n",
       "      <td>212</td>\n",
       "      <td>0.1127</td>\n",
       "    </tr>\n",
       "    <tr>\n",
       "      <th>17</th>\n",
       "      <td>max_bal_bc</td>\n",
       "      <td>3651</td>\n",
       "      <td>474</td>\n",
       "      <td>0.1149</td>\n",
       "    </tr>\n",
       "    <tr>\n",
       "      <th>0</th>\n",
       "      <td>loan_amnt</td>\n",
       "      <td>1349</td>\n",
       "      <td>206</td>\n",
       "      <td>0.1325</td>\n",
       "    </tr>\n",
       "    <tr>\n",
       "      <th>34</th>\n",
       "      <td>total_bal_ex_mort</td>\n",
       "      <td>4161</td>\n",
       "      <td>715</td>\n",
       "      <td>0.1466</td>\n",
       "    </tr>\n",
       "    <tr>\n",
       "      <th>36</th>\n",
       "      <td>total_il_high_credit_limit</td>\n",
       "      <td>3972</td>\n",
       "      <td>683</td>\n",
       "      <td>0.1467</td>\n",
       "    </tr>\n",
       "    <tr>\n",
       "      <th>13</th>\n",
       "      <td>tot_coll_amt</td>\n",
       "      <td>2069</td>\n",
       "      <td>386</td>\n",
       "      <td>0.1572</td>\n",
       "    </tr>\n",
       "    <tr>\n",
       "      <th>15</th>\n",
       "      <td>total_bal_il</td>\n",
       "      <td>4242</td>\n",
       "      <td>800</td>\n",
       "      <td>0.1587</td>\n",
       "    </tr>\n",
       "    <tr>\n",
       "      <th>26</th>\n",
       "      <td>num_bc_tl</td>\n",
       "      <td>3041</td>\n",
       "      <td>661</td>\n",
       "      <td>0.1786</td>\n",
       "    </tr>\n",
       "    <tr>\n",
       "      <th>28</th>\n",
       "      <td>num_rev_accts</td>\n",
       "      <td>2854</td>\n",
       "      <td>639</td>\n",
       "      <td>0.1829</td>\n",
       "    </tr>\n",
       "    <tr>\n",
       "      <th>25</th>\n",
       "      <td>num_bc_sats</td>\n",
       "      <td>3899</td>\n",
       "      <td>886</td>\n",
       "      <td>0.1852</td>\n",
       "    </tr>\n",
       "    <tr>\n",
       "      <th>38</th>\n",
       "      <td>cr_hist</td>\n",
       "      <td>2044</td>\n",
       "      <td>481</td>\n",
       "      <td>0.1905</td>\n",
       "    </tr>\n",
       "    <tr>\n",
       "      <th>16</th>\n",
       "      <td>il_util</td>\n",
       "      <td>2668</td>\n",
       "      <td>631</td>\n",
       "      <td>0.1913</td>\n",
       "    </tr>\n",
       "    <tr>\n",
       "      <th>31</th>\n",
       "      <td>pct_tl_nvr_dlq</td>\n",
       "      <td>4156</td>\n",
       "      <td>1005</td>\n",
       "      <td>0.1947</td>\n",
       "    </tr>\n",
       "    <tr>\n",
       "      <th>9</th>\n",
       "      <td>open_acc</td>\n",
       "      <td>2936</td>\n",
       "      <td>725</td>\n",
       "      <td>0.1980</td>\n",
       "    </tr>\n",
       "    <tr>\n",
       "      <th>30</th>\n",
       "      <td>num_sats</td>\n",
       "      <td>2867</td>\n",
       "      <td>709</td>\n",
       "      <td>0.1983</td>\n",
       "    </tr>\n",
       "    <tr>\n",
       "      <th>10</th>\n",
       "      <td>pub_rec</td>\n",
       "      <td>2926</td>\n",
       "      <td>750</td>\n",
       "      <td>0.2040</td>\n",
       "    </tr>\n",
       "    <tr>\n",
       "      <th>27</th>\n",
       "      <td>num_op_rev_tl</td>\n",
       "      <td>2886</td>\n",
       "      <td>757</td>\n",
       "      <td>0.2078</td>\n",
       "    </tr>\n",
       "    <tr>\n",
       "      <th>6</th>\n",
       "      <td>delinq_2yrs</td>\n",
       "      <td>3393</td>\n",
       "      <td>934</td>\n",
       "      <td>0.2159</td>\n",
       "    </tr>\n",
       "    <tr>\n",
       "      <th>22</th>\n",
       "      <td>bc_util</td>\n",
       "      <td>18</td>\n",
       "      <td>5</td>\n",
       "      <td>0.2174</td>\n",
       "    </tr>\n",
       "    <tr>\n",
       "      <th>24</th>\n",
       "      <td>num_actv_bc_tl</td>\n",
       "      <td>2982</td>\n",
       "      <td>830</td>\n",
       "      <td>0.2177</td>\n",
       "    </tr>\n",
       "    <tr>\n",
       "      <th>32</th>\n",
       "      <td>pub_rec_bankruptcies</td>\n",
       "      <td>2212</td>\n",
       "      <td>629</td>\n",
       "      <td>0.2214</td>\n",
       "    </tr>\n",
       "    <tr>\n",
       "      <th>29</th>\n",
       "      <td>num_rev_tl_bal_gt_0</td>\n",
       "      <td>2798</td>\n",
       "      <td>874</td>\n",
       "      <td>0.2380</td>\n",
       "    </tr>\n",
       "    <tr>\n",
       "      <th>12</th>\n",
       "      <td>revol_util</td>\n",
       "      <td>14</td>\n",
       "      <td>5</td>\n",
       "      <td>0.2632</td>\n",
       "    </tr>\n",
       "    <tr>\n",
       "      <th>5</th>\n",
       "      <td>dti</td>\n",
       "      <td>534</td>\n",
       "      <td>195</td>\n",
       "      <td>0.2675</td>\n",
       "    </tr>\n",
       "    <tr>\n",
       "      <th>18</th>\n",
       "      <td>all_util</td>\n",
       "      <td>236</td>\n",
       "      <td>91</td>\n",
       "      <td>0.2783</td>\n",
       "    </tr>\n",
       "    <tr>\n",
       "      <th>2</th>\n",
       "      <td>installment</td>\n",
       "      <td>1348</td>\n",
       "      <td>606</td>\n",
       "      <td>0.3101</td>\n",
       "    </tr>\n",
       "    <tr>\n",
       "      <th>3</th>\n",
       "      <td>grade</td>\n",
       "      <td>1411</td>\n",
       "      <td>1164</td>\n",
       "      <td>0.4520</td>\n",
       "    </tr>\n",
       "    <tr>\n",
       "      <th>1</th>\n",
       "      <td>int_rate</td>\n",
       "      <td>1482</td>\n",
       "      <td>1276</td>\n",
       "      <td>0.4627</td>\n",
       "    </tr>\n",
       "    <tr>\n",
       "      <th>37</th>\n",
       "      <td>realized_return</td>\n",
       "      <td>0</td>\n",
       "      <td>7546</td>\n",
       "      <td>1.0000</td>\n",
       "    </tr>\n",
       "  </tbody>\n",
       "</table>\n",
       "</div>"
      ],
      "text/plain": [
       "                       Columns  Fully_paid  Default   frac\n",
       "7               fico_range_low        3887      203 0.0496\n",
       "8              fico_range_high        3887      203 0.0496\n",
       "21              bc_open_to_buy        5324      402 0.0702\n",
       "35              total_bc_limit        4673      474 0.0921\n",
       "20                 avg_cur_bal        4317      448 0.0940\n",
       "19            total_rev_hi_lim        3798      420 0.0996\n",
       "33             tot_hi_cred_lim        3339      370 0.0998\n",
       "14                 tot_cur_bal        3648      420 0.1032\n",
       "23                    mort_acc        4228      533 0.1120\n",
       "11                   revol_bal        3238      410 0.1124\n",
       "4                   annual_inc        1669      212 0.1127\n",
       "17                  max_bal_bc        3651      474 0.1149\n",
       "0                    loan_amnt        1349      206 0.1325\n",
       "34           total_bal_ex_mort        4161      715 0.1466\n",
       "36  total_il_high_credit_limit        3972      683 0.1467\n",
       "13                tot_coll_amt        2069      386 0.1572\n",
       "15                total_bal_il        4242      800 0.1587\n",
       "26                   num_bc_tl        3041      661 0.1786\n",
       "28               num_rev_accts        2854      639 0.1829\n",
       "25                 num_bc_sats        3899      886 0.1852\n",
       "38                     cr_hist        2044      481 0.1905\n",
       "16                     il_util        2668      631 0.1913\n",
       "31              pct_tl_nvr_dlq        4156     1005 0.1947\n",
       "9                     open_acc        2936      725 0.1980\n",
       "30                    num_sats        2867      709 0.1983\n",
       "10                     pub_rec        2926      750 0.2040\n",
       "27               num_op_rev_tl        2886      757 0.2078\n",
       "6                  delinq_2yrs        3393      934 0.2159\n",
       "22                     bc_util          18        5 0.2174\n",
       "24              num_actv_bc_tl        2982      830 0.2177\n",
       "32        pub_rec_bankruptcies        2212      629 0.2214\n",
       "29         num_rev_tl_bal_gt_0        2798      874 0.2380\n",
       "12                  revol_util          14        5 0.2632\n",
       "5                          dti         534      195 0.2675\n",
       "18                    all_util         236       91 0.2783\n",
       "2                  installment        1348      606 0.3101\n",
       "3                        grade        1411     1164 0.4520\n",
       "1                     int_rate        1482     1276 0.4627\n",
       "37             realized_return           0     7546 1.0000"
      ]
     },
     "execution_count": 39,
     "metadata": {},
     "output_type": "execute_result"
    }
   ],
   "source": [
    "#check proportion of fully paid/defult loans in columns outlires\n",
    "\n",
    "df2 = df.copy()\n",
    "df2 = df2.reset_index(drop = True)\n",
    "df1_outliers_gauss = pd.DataFrame(np.abs(zscore(df)) > 3)\n",
    "df1_outliers_gauss.columns = df1_outliers_iqr.columns\n",
    "\n",
    "column, fully_paid, default = [], [], []\n",
    "\n",
    "for col in df2:\n",
    "    if len(df2[df1_outliers_gauss[col]].loan_status.value_counts()) == 0:\n",
    "        pass\n",
    "    else:\n",
    "        column.append(col)\n",
    "        if col == \"realized_return\":\n",
    "            \n",
    "            fully_paid.append(0)\n",
    "            default.append(df2[df1_outliers_gauss[col]].loan_status.value_counts()[1])\n",
    "        else:\n",
    "            fully_paid.append(df2[df1_outliers_gauss[col]].loan_status.value_counts()[0])\n",
    "            default.append(df2[df1_outliers_gauss[col]].loan_status.value_counts()[1])\n",
    "            \n",
    "            \n",
    "df_outliers_loan_status = pd.DataFrame({'Columns': column, 'Fully_paid': fully_paid, 'Default': default})\n",
    "df_outliers_loan_status[\"frac\"] = df_outliers_loan_status.Default/(df_outliers_loan_status.Default + df_outliers_loan_status.Fully_paid)\n",
    "df_outliers_loan_status.sort_values(\"frac\")"
   ]
  },
  {
   "cell_type": "markdown",
   "metadata": {},
   "source": [
    "Most of the coulmns outliers has more or less the same distribution of fully paid/default loans as our data (13% deafult). However, all of realized_return outliers are defualted loans, thease loans \n",
    "are exactly the ones we want our model to identify, whether we predict deafult/non-default or the expected realized return (the defualted loans are usarly the ones with negative return and we want to avoid them), therefore we will not drop thease outliers, they contain relavent information. \n",
    "\n",
    "For the rest of the outliers, To tred lightly, for now we will only drop outliers that are more then 6 SD from the mean. When we move forword and try to improve out model we will investagate every attribute outliers separtly, try to understand their nature, and check if removing them impact our model."
   ]
  },
  {
   "cell_type": "markdown",
   "metadata": {},
   "source": [
    "# Scaling\n",
    "For now we will test our models with and with out scaling, at this time we will use standart scaler, when we proceed we will try diffrent scaling methods and see if it improves our model"
   ]
  },
  {
   "cell_type": "markdown",
   "metadata": {},
   "source": [
    "# Modeling"
   ]
  },
  {
   "cell_type": "markdown",
   "metadata": {},
   "source": [
    "# Approch A - Reggresion model on realized return"
   ]
  },
  {
   "cell_type": "markdown",
   "metadata": {},
   "source": [
    "## baseline model - predicting by grade"
   ]
  },
  {
   "cell_type": "code",
   "execution_count": 40,
   "metadata": {},
   "outputs": [
    {
     "data": {
      "text/html": [
       "<div>\n",
       "<style scoped>\n",
       "    .dataframe tbody tr th:only-of-type {\n",
       "        vertical-align: middle;\n",
       "    }\n",
       "\n",
       "    .dataframe tbody tr th {\n",
       "        vertical-align: top;\n",
       "    }\n",
       "\n",
       "    .dataframe thead th {\n",
       "        text-align: right;\n",
       "    }\n",
       "</style>\n",
       "<table border=\"1\" class=\"dataframe\">\n",
       "  <thead>\n",
       "    <tr style=\"text-align: right;\">\n",
       "      <th></th>\n",
       "      <th>mean</th>\n",
       "      <th>median</th>\n",
       "      <th>std</th>\n",
       "      <th>min</th>\n",
       "      <th>max</th>\n",
       "    </tr>\n",
       "    <tr>\n",
       "      <th>grade</th>\n",
       "      <th></th>\n",
       "      <th></th>\n",
       "      <th></th>\n",
       "      <th></th>\n",
       "      <th></th>\n",
       "    </tr>\n",
       "  </thead>\n",
       "  <tbody>\n",
       "    <tr>\n",
       "      <th>A</th>\n",
       "      <td>0.0320</td>\n",
       "      <td>0.0410</td>\n",
       "      <td>0.0461</td>\n",
       "      <td>-0.3227</td>\n",
       "      <td>0.1007</td>\n",
       "    </tr>\n",
       "    <tr>\n",
       "      <th>B</th>\n",
       "      <td>0.0301</td>\n",
       "      <td>0.0558</td>\n",
       "      <td>0.0714</td>\n",
       "      <td>-0.3303</td>\n",
       "      <td>0.1222</td>\n",
       "    </tr>\n",
       "    <tr>\n",
       "      <th>C</th>\n",
       "      <td>0.0248</td>\n",
       "      <td>0.0659</td>\n",
       "      <td>0.0936</td>\n",
       "      <td>-0.3319</td>\n",
       "      <td>0.1301</td>\n",
       "    </tr>\n",
       "    <tr>\n",
       "      <th>D</th>\n",
       "      <td>0.0189</td>\n",
       "      <td>0.0683</td>\n",
       "      <td>0.1138</td>\n",
       "      <td>-0.3214</td>\n",
       "      <td>0.1575</td>\n",
       "    </tr>\n",
       "    <tr>\n",
       "      <th>E</th>\n",
       "      <td>0.0158</td>\n",
       "      <td>0.0677</td>\n",
       "      <td>0.1306</td>\n",
       "      <td>-0.3215</td>\n",
       "      <td>0.1813</td>\n",
       "    </tr>\n",
       "    <tr>\n",
       "      <th>F</th>\n",
       "      <td>0.0081</td>\n",
       "      <td>0.0579</td>\n",
       "      <td>0.1453</td>\n",
       "      <td>-0.3305</td>\n",
       "      <td>0.2010</td>\n",
       "    </tr>\n",
       "    <tr>\n",
       "      <th>G</th>\n",
       "      <td>-0.0039</td>\n",
       "      <td>0.0332</td>\n",
       "      <td>0.1541</td>\n",
       "      <td>-0.3197</td>\n",
       "      <td>0.1942</td>\n",
       "    </tr>\n",
       "  </tbody>\n",
       "</table>\n",
       "</div>"
      ],
      "text/plain": [
       "         mean  median    std     min    max\n",
       "grade                                      \n",
       "A      0.0320  0.0410 0.0461 -0.3227 0.1007\n",
       "B      0.0301  0.0558 0.0714 -0.3303 0.1222\n",
       "C      0.0248  0.0659 0.0936 -0.3319 0.1301\n",
       "D      0.0189  0.0683 0.1138 -0.3214 0.1575\n",
       "E      0.0158  0.0677 0.1306 -0.3215 0.1813\n",
       "F      0.0081  0.0579 0.1453 -0.3305 0.2010\n",
       "G     -0.0039  0.0332 0.1541 -0.3197 0.1942"
      ]
     },
     "execution_count": 40,
     "metadata": {},
     "output_type": "execute_result"
    }
   ],
   "source": [
    "base_line_grade"
   ]
  },
  {
   "cell_type": "code",
   "execution_count": 41,
   "metadata": {},
   "outputs": [],
   "source": [
    "only_grade = df[[\"grade\", \"realized_return\"]]"
   ]
  },
  {
   "cell_type": "code",
   "execution_count": 42,
   "metadata": {},
   "outputs": [],
   "source": [
    "X = only_grade.drop([\"realized_return\"], axis = 1)\n",
    "y = only_grade[\"realized_return\"]\n",
    "X_train, X_test, y_train, y_test = train_test_split(X, y, train_size=0.8, random_state=3)"
   ]
  },
  {
   "cell_type": "code",
   "execution_count": 43,
   "metadata": {},
   "outputs": [],
   "source": [
    "base_model = LinearRegression()\n",
    "base_model.fit(X_train, y_train)\n",
    "y_pred = base_model.predict(X_test)"
   ]
  },
  {
   "cell_type": "code",
   "execution_count": 44,
   "metadata": {},
   "outputs": [
    {
     "name": "stdout",
     "output_type": "stream",
     "text": [
      " Baseline model predictting by grade: \n",
      " R2 --> 0.00304 \n",
      " RMSE --> 0.08319\n"
     ]
    }
   ],
   "source": [
    "print(\" Baseline model predictting by grade: \\n R2 --> %.5f \\n RMSE --> %.5f\" % (r2_score(y_test,y_pred), np.sqrt(mean_squared_error(y_test,y_pred)) ) )"
   ]
  },
  {
   "cell_type": "code",
   "execution_count": 45,
   "metadata": {},
   "outputs": [],
   "source": [
    "name, R2, RMSE = [],[],[]"
   ]
  },
  {
   "cell_type": "code",
   "execution_count": 46,
   "metadata": {},
   "outputs": [],
   "source": [
    "def Reg_model(Name, model, df, scale = False):\n",
    "    X = df.drop([\"loan_status\", \"realized_return\"], axis = 1)\n",
    "    y = df[\"realized_return\"]\n",
    "    \n",
    "    if scale:\n",
    "        sc = StandardScaler()\n",
    "        X = sc.fit_transform(X)\n",
    "        \n",
    "    X_train, X_test, y_train, y_test = train_test_split(X, y, train_size=0.8, random_state=3)\n",
    "    model.fit(X_train, y_train)\n",
    "    y_pred = model.predict(X_test)\n",
    "    \n",
    "    name.append(Name)\n",
    "    R2.append(round(r2_score(y_test,y_pred),5))\n",
    "    RMSE.append(np.round(np.sqrt(mean_squared_error(y_test,y_pred)),5))\n",
    "    \n",
    "    print(\" Model --> %s \\n R2 --> %.5f \\n RMSE --> %.5f\" % (Name, r2_score(y_test,y_pred), np.sqrt(mean_squared_error(y_test,y_pred)) ) )\n",
    "    "
   ]
  },
  {
   "cell_type": "code",
   "execution_count": 47,
   "metadata": {},
   "outputs": [],
   "source": [
    "LR = LinearRegression()\n",
    "KNN = KNeighborsRegressor()\n",
    "GB = GradientBoostingRegressor()"
   ]
  },
  {
   "cell_type": "code",
   "execution_count": 48,
   "metadata": {},
   "outputs": [
    {
     "name": "stdout",
     "output_type": "stream",
     "text": [
      " Model --> LR \n",
      " R2 --> 0.01165 \n",
      " RMSE --> 0.08283\n",
      " Model --> KNN \n",
      " R2 --> -0.18461 \n",
      " RMSE --> 0.09068\n",
      " Model --> GB \n",
      " R2 --> 0.02078 \n",
      " RMSE --> 0.08244\n"
     ]
    }
   ],
   "source": [
    "Reg_model(\"LR\", LR, df)\n",
    "Reg_model(\"KNN\", KNN, df)\n",
    "Reg_model(\"GB\", GB, df)"
   ]
  },
  {
   "cell_type": "markdown",
   "metadata": {},
   "source": [
    "* With scaling:"
   ]
  },
  {
   "cell_type": "code",
   "execution_count": 147,
   "metadata": {},
   "outputs": [
    {
     "name": "stdout",
     "output_type": "stream",
     "text": [
      " Model --> LR_scaled \n",
      " R2 --> 0.01188 \n",
      " RMSE --> 0.08282\n",
      " Model --> KNN_scaled \n",
      " R2 --> -0.16875 \n",
      " RMSE --> 0.09007\n",
      " Model --> GB_scaled \n",
      " R2 --> 0.02076 \n",
      " RMSE --> 0.08245\n"
     ]
    }
   ],
   "source": [
    "Reg_model(\"LR_scaled\", LR, df, scale=True)\n",
    "Reg_model(\"KNN_scaled\", KNN, df, scale=True)\n",
    "Reg_model(\"GB_scaled\", GB, df, scale=True)"
   ]
  },
  {
   "cell_type": "markdown",
   "metadata": {},
   "source": [
    "# Approch B - Classification model on loan status"
   ]
  },
  {
   "cell_type": "code",
   "execution_count": 90,
   "metadata": {},
   "outputs": [],
   "source": [
    "#name, accuracy, recall, precision, F1 = [], [], [], [], []"
   ]
  },
  {
   "cell_type": "code",
   "execution_count": 94,
   "metadata": {},
   "outputs": [],
   "source": [
    "def model_classification_results():\n",
    "    print('Model recall: %.5f' % recall_score(y_test, y_pred))\n",
    "    print('Model precision_score: %.5f' % precision_score(y_test, y_pred))\n",
    "    print('Model roc_auc_score: %.5f' % roc_auc_score(y_test, y_pred))\n",
    "    print('Model accuracy_score: %.5f' % accuracy_score(y_test,y_pred))\n",
    "\n",
    "    confusion_matrix_pred = pd.DataFrame(confusion_matrix(y_test, y_pred),\n",
    "                                            columns=pd.MultiIndex.from_product([['Prediction'], ['Fully Paid', 'Charged Off']]),\n",
    "                                            index=pd.MultiIndex.from_product([['Actual'], ['Fully Paid', 'Charged Off']]))\n",
    "    print(\"Model confusion matrix\\n\")\n",
    "    print(confusion_matrix_pred)\n",
    "\n",
    "    df_paid = train_set_status_return[train_set_status_return[\"loan_status\"] == 0]\n",
    "    df_default = train_set_status_return[train_set_status_return[\"loan_status\"] == 1]\n",
    "\n",
    "    mean_return_fullypaid = np.mean(df_paid[\"realized_return\"])\n",
    "    mean_return_chargedoff = np.mean(df_default[\"realized_return\"])\n",
    "\n",
    "    inv_actual_0_lg, inv_actual_1_lg = confusion_matrix_pred.iloc[0, 0], confusion_matrix_pred.iloc[1, 0]\n",
    "    total_inv_lg = inv_actual_0_lg + inv_actual_1_lg\n",
    "\n",
    "    prob_pred_fullypaid_actual_chargedoff_lg = inv_actual_1_lg/total_inv_lg\n",
    "    prob_pred_fullypaid_actual_fullypaid_lg = inv_actual_0_lg/total_inv_lg\n",
    "\n",
    "    exp_return_inv_lg = prob_pred_fullypaid_actual_fullypaid_lg * mean_return_fullypaid + \\\n",
    "                        prob_pred_fullypaid_actual_chargedoff_lg * mean_return_chargedoff\n",
    "    print(\"Expected mean return %.4f\" % exp_return_inv_lg)\n",
    "    print(\"\")\n",
    "    print(\"Real mean return of loans classified as Fully paid %.4f\" % np.mean(y_test_relized_return[y_pred == 0])) #calculate the reale mean realized return of loans classified as Fully paid"
   ]
  },
  {
   "cell_type": "markdown",
   "metadata": {},
   "source": [
    "# Baseline model - predicting by grade"
   ]
  },
  {
   "cell_type": "code",
   "execution_count": 95,
   "metadata": {},
   "outputs": [],
   "source": [
    "X = df\n",
    "y = df['loan_status']\n",
    "X_train, X_test, y_train, y_test = train_test_split(X, y, test_size=0.2, stratify=y)"
   ]
  },
  {
   "cell_type": "code",
   "execution_count": 96,
   "metadata": {},
   "outputs": [],
   "source": [
    "y_test_relized_return = X_test[\"realized_return\"] #save the real realized return of the test loans\n",
    "train_set_status_return = X_train[[\"loan_status\", \"realized_return\"]] #keep the train set status and realized return"
   ]
  },
  {
   "cell_type": "code",
   "execution_count": 97,
   "metadata": {},
   "outputs": [],
   "source": [
    "#and now drop them\n",
    "X_train = X_train.drop(['loan_status', 'realized_return'], axis=1)\n",
    "X_test = X_test.drop(['loan_status', 'realized_return'], axis=1)"
   ]
  },
  {
   "cell_type": "code",
   "execution_count": 98,
   "metadata": {},
   "outputs": [],
   "source": [
    "X_train = X_train[[\"grade\"]]\n",
    "X_test = X_test[[\"grade\"]]"
   ]
  },
  {
   "cell_type": "code",
   "execution_count": 99,
   "metadata": {},
   "outputs": [],
   "source": [
    "base_model = LogisticRegression()\n",
    "base_model.fit(X_train, y_train)\n",
    "y_pred = base_model.predict(X_test)"
   ]
  },
  {
   "cell_type": "code",
   "execution_count": 100,
   "metadata": {},
   "outputs": [
    {
     "name": "stdout",
     "output_type": "stream",
     "text": [
      "Model recall: 0.02293\n",
      "Model precision_score: 0.42054\n",
      "Model roc_auc_score: 0.50803\n",
      "Model accuracy_score: 0.81963\n",
      "Model confusion matrix\n",
      "\n",
      "                   Prediction            \n",
      "                   Fully Paid Charged Off\n",
      "Actual Fully Paid       43151         299\n",
      "       Charged Off       9245         217\n",
      "Expected mean return 0.0275\n",
      "\n",
      "Real mean return of loans classified as Fully paid 0.0269\n"
     ]
    }
   ],
   "source": [
    "model_classification_results()"
   ]
  },
  {
   "cell_type": "code",
   "execution_count": 101,
   "metadata": {},
   "outputs": [],
   "source": [
    "X = df\n",
    "y = df['loan_status']\n",
    "X_train, X_test, y_train, y_test = train_test_split(X, y, test_size=0.2, stratify=y)"
   ]
  },
  {
   "cell_type": "code",
   "execution_count": 102,
   "metadata": {},
   "outputs": [],
   "source": [
    "y_test_relized_return = X_test[\"realized_return\"] #save the real realized return of the test loans\n",
    "train_set_status_return = X_train[[\"loan_status\", \"realized_return\"]] #keep the train set status and realized return"
   ]
  },
  {
   "cell_type": "code",
   "execution_count": 103,
   "metadata": {},
   "outputs": [],
   "source": [
    "#and now drop them\n",
    "X_train = X_train.drop(['loan_status', 'realized_return'], axis=1)\n",
    "X_test = X_test.drop(['loan_status', 'realized_return'], axis=1)"
   ]
  },
  {
   "cell_type": "markdown",
   "metadata": {},
   "source": [
    "# Logistic regression - not scaled "
   ]
  },
  {
   "cell_type": "code",
   "execution_count": null,
   "metadata": {},
   "outputs": [],
   "source": [
    "# logistic regression\n",
    "LG = LogisticRegression(max_iter = 400)\n",
    "LG.fit(X_train, y_train)"
   ]
  },
  {
   "cell_type": "code",
   "execution_count": 105,
   "metadata": {},
   "outputs": [],
   "source": [
    "threshold = 0.5 #set threshold for classification decidion\n",
    "y_prob = LG.predict_proba(X_test)[:, 1] # get probability\n",
    "y_pred = (y_prob >= threshold).astype('int')"
   ]
  },
  {
   "cell_type": "code",
   "execution_count": 106,
   "metadata": {},
   "outputs": [
    {
     "name": "stdout",
     "output_type": "stream",
     "text": [
      "Model recall: 0.00021\n",
      "Model precision_score: 0.66667\n",
      "Model roc_auc_score: 0.50009\n",
      "Model accuracy_score: 0.82119\n",
      "Model confusion matrix\n",
      "\n",
      "                   Prediction            \n",
      "                   Fully Paid Charged Off\n",
      "Actual Fully Paid       43449           1\n",
      "       Charged Off       9460           2\n",
      "Expected mean return 0.0270\n",
      "\n",
      "Real mean return of loans classified as Fully paid 0.0270\n"
     ]
    }
   ],
   "source": [
    "model_classification_results()"
   ]
  },
  {
   "cell_type": "markdown",
   "metadata": {},
   "source": [
    "# Knn - Not scaled"
   ]
  },
  {
   "cell_type": "code",
   "execution_count": 107,
   "metadata": {},
   "outputs": [
    {
     "data": {
      "text/plain": [
       "KNeighborsClassifier()"
      ]
     },
     "execution_count": 107,
     "metadata": {},
     "output_type": "execute_result"
    }
   ],
   "source": [
    "# logistic regression\n",
    "Knn = KNeighborsClassifier()\n",
    "Knn.fit(X_train, y_train)"
   ]
  },
  {
   "cell_type": "code",
   "execution_count": 108,
   "metadata": {},
   "outputs": [],
   "source": [
    "threshold = 0.5 #set threshold for classification decidion\n",
    "y_prob = Knn.predict_proba(X_test)[:, 1] # get probability\n",
    "y_pred = (y_prob >= threshold).astype('int')"
   ]
  },
  {
   "cell_type": "code",
   "execution_count": 109,
   "metadata": {},
   "outputs": [
    {
     "name": "stdout",
     "output_type": "stream",
     "text": [
      "Model recall: 0.06669\n",
      "Model precision_score: 0.22560\n",
      "Model roc_auc_score: 0.50842\n",
      "Model accuracy_score: 0.79216\n",
      "Model confusion matrix\n",
      "\n",
      "                   Prediction            \n",
      "                   Fully Paid Charged Off\n",
      "Actual Fully Paid       41284        2166\n",
      "       Charged Off       8831         631\n",
      "Expected mean return 0.0275\n",
      "\n",
      "Real mean return of loans classified as Fully paid 0.0272\n"
     ]
    }
   ],
   "source": [
    "model_classification_results()"
   ]
  },
  {
   "cell_type": "markdown",
   "metadata": {},
   "source": [
    "# Random forest - not scaled"
   ]
  },
  {
   "cell_type": "code",
   "execution_count": 110,
   "metadata": {},
   "outputs": [
    {
     "data": {
      "text/plain": [
       "RandomForestClassifier()"
      ]
     },
     "execution_count": 110,
     "metadata": {},
     "output_type": "execute_result"
    }
   ],
   "source": [
    "# logistic regression\n",
    "RF = RandomForestClassifier()\n",
    "RF.fit(X_train, y_train)"
   ]
  },
  {
   "cell_type": "code",
   "execution_count": 111,
   "metadata": {},
   "outputs": [],
   "source": [
    "threshold = 0.5 #set threshold for classification decidion\n",
    "y_prob = RF.predict_proba(X_test)[:, 1] # get probability\n",
    "y_pred = (y_prob >= threshold).astype('int')"
   ]
  },
  {
   "cell_type": "code",
   "execution_count": 112,
   "metadata": {},
   "outputs": [
    {
     "name": "stdout",
     "output_type": "stream",
     "text": [
      "Model recall: 0.02547\n",
      "Model precision_score: 0.49084\n",
      "Model roc_auc_score: 0.50986\n",
      "Model accuracy_score: 0.82100\n",
      "Model confusion matrix\n",
      "\n",
      "                   Prediction            \n",
      "                   Fully Paid Charged Off\n",
      "Actual Fully Paid       43200         250\n",
      "       Charged Off       9221         241\n",
      "Expected mean return 0.0276\n",
      "\n",
      "Real mean return of loans classified as Fully paid 0.0273\n"
     ]
    }
   ],
   "source": [
    "model_classification_results()"
   ]
  },
  {
   "cell_type": "markdown",
   "metadata": {},
   "source": [
    "# Logistic regression - scaled "
   ]
  },
  {
   "cell_type": "code",
   "execution_count": 113,
   "metadata": {},
   "outputs": [],
   "source": [
    "sc = StandardScaler()\n",
    "sc.fit(X_train)\n",
    "X_train = sc.transform(X_train)\n",
    "X_test = sc.transform(X_test)"
   ]
  },
  {
   "cell_type": "code",
   "execution_count": 117,
   "metadata": {},
   "outputs": [
    {
     "data": {
      "text/plain": [
       "LogisticRegression(max_iter=500)"
      ]
     },
     "execution_count": 117,
     "metadata": {},
     "output_type": "execute_result"
    }
   ],
   "source": [
    "# logistic regression\n",
    "LG = LogisticRegression(max_iter =  500)\n",
    "LG.fit(X_train, y_train)"
   ]
  },
  {
   "cell_type": "code",
   "execution_count": 118,
   "metadata": {},
   "outputs": [],
   "source": [
    "threshold = 0.5 #set threshold for classification decidion\n",
    "y_prob = LG.predict_proba(X_test)[:, 1] # get probability\n",
    "y_pred = (y_prob >= threshold).astype('int')"
   ]
  },
  {
   "cell_type": "code",
   "execution_count": 119,
   "metadata": {},
   "outputs": [
    {
     "name": "stdout",
     "output_type": "stream",
     "text": [
      "Model recall: 0.03657\n",
      "Model precision_score: 0.49928\n",
      "Model roc_auc_score: 0.51429\n",
      "Model accuracy_score: 0.82116\n",
      "Model confusion matrix\n",
      "\n",
      "                   Prediction            \n",
      "                   Fully Paid Charged Off\n",
      "Actual Fully Paid       43103         347\n",
      "       Charged Off       9116         346\n",
      "Expected mean return 0.0279\n",
      "\n",
      "Real mean return of loans classified as Fully paid 0.0272\n"
     ]
    }
   ],
   "source": [
    "model_classification_results()"
   ]
  },
  {
   "cell_type": "markdown",
   "metadata": {},
   "source": [
    "# Knn - Scaled"
   ]
  },
  {
   "cell_type": "code",
   "execution_count": 113,
   "metadata": {},
   "outputs": [],
   "source": [
    "sc = StandardScaler()\n",
    "sc.fit(X_train)\n",
    "X_train = sc.fit_transform(X_train)\n",
    "X_test = sc.fit_transform(X_test)"
   ]
  },
  {
   "cell_type": "code",
   "execution_count": 114,
   "metadata": {},
   "outputs": [
    {
     "data": {
      "text/plain": [
       "KNeighborsClassifier()"
      ]
     },
     "execution_count": 114,
     "metadata": {},
     "output_type": "execute_result"
    }
   ],
   "source": [
    "# logistic regression\n",
    "Knn = KNeighborsClassifier()\n",
    "Knn.fit(X_train, y_train)"
   ]
  },
  {
   "cell_type": "code",
   "execution_count": null,
   "metadata": {},
   "outputs": [],
   "source": [
    "threshold = 0.5 #set threshold for classification decidion\n",
    "y_prob = Knn.predict_proba(X_test)[:, 1] # get probability\n",
    "y_pred = (y_prob >= threshold).astype('int')"
   ]
  },
  {
   "cell_type": "code",
   "execution_count": null,
   "metadata": {},
   "outputs": [],
   "source": [
    "model_classification_results()"
   ]
  },
  {
   "cell_type": "markdown",
   "metadata": {},
   "source": [
    "# Random forest - scaled"
   ]
  },
  {
   "cell_type": "code",
   "execution_count": null,
   "metadata": {},
   "outputs": [],
   "source": [
    "sc = StandardScaler()\n",
    "sc.fit(X_train)\n",
    "X_train = sc.fit_transform(X_train)\n",
    "X_test = sc.fit_transform(X_test)"
   ]
  },
  {
   "cell_type": "code",
   "execution_count": null,
   "metadata": {},
   "outputs": [],
   "source": [
    "# logistic regression\n",
    "RF = RandomForestClassifier()\n",
    "RF.fit(X_train, y_train)"
   ]
  },
  {
   "cell_type": "code",
   "execution_count": null,
   "metadata": {},
   "outputs": [],
   "source": [
    "threshold = 0.5 #set threshold for classification decidion\n",
    "y_prob = RF.predict_proba(X_test)[:, 1] # get probability\n",
    "y_pred = (y_prob >= threshold).astype('int')"
   ]
  },
  {
   "cell_type": "code",
   "execution_count": null,
   "metadata": {},
   "outputs": [],
   "source": [
    "model_classification_results()"
   ]
  }
 ],
 "metadata": {
  "kernelspec": {
   "display_name": "Python 3",
   "language": "python",
   "name": "python3"
  },
  "language_info": {
   "codemirror_mode": {
    "name": "ipython",
    "version": 3
   },
   "file_extension": ".py",
   "mimetype": "text/x-python",
   "name": "python",
   "nbconvert_exporter": "python",
   "pygments_lexer": "ipython3",
   "version": "3.7.6"
  }
 },
 "nbformat": 4,
 "nbformat_minor": 4
}
