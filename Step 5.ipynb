{
 "cells": [
  {
   "cell_type": "code",
   "execution_count": 1,
   "metadata": {},
   "outputs": [],
   "source": [
    "# Load general utilities\n",
    "# ----------------------\n",
    "import pandas as pd\n",
    "import matplotlib.pyplot as plt\n",
    "import matplotlib\n",
    "\n",
    "import matplotlib.axes as ax\n",
    "import datetime\n",
    "import numpy as np\n",
    "import time\n",
    "import seaborn as sns\n",
    "import os\n",
    "from scipy.stats import zscore\n",
    "\n",
    "# Load sklearn utilities\n",
    "# ----------------------\n",
    "from sklearn.model_selection import train_test_split\n",
    "from sklearn.preprocessing import LabelEncoder, StandardScaler, MinMaxScaler\n",
    "from sklearn.metrics import accuracy_score, classification_report, roc_auc_score, roc_curve, brier_score_loss, mean_squared_error, r2_score, precision_score, recall_score, confusion_matrix\n",
    "from sklearn.calibration import calibration_curve\n",
    "from sklearn.neural_network import MLPClassifier\n",
    "# Load classifiers\n",
    "# ----------------\n",
    "from sklearn.linear_model import LogisticRegression, LinearRegression\n",
    "from sklearn.tree import DecisionTreeClassifier, DecisionTreeRegressor\n",
    "from sklearn.ensemble import RandomForestClassifier, RandomForestRegressor\n",
    "from sklearn.neural_network import MLPClassifier\n",
    "from sklearn.ensemble import GradientBoostingClassifier, GradientBoostingRegressor\n",
    "from sklearn.preprocessing import LabelEncoder\n",
    "from sklearn.neighbors import KNeighborsClassifier, KNeighborsRegressor\n",
    "\n",
    "pd.set_option('display.max_columns', None)\n",
    "#pd.set_option('display.max_rows', None)\n",
    "pd.set_option('display.float_format', lambda x: '%.4f' % x)\n",
    "matplotlib.rc('xtick', labelsize=20) \n",
    "matplotlib.rc('ytick', labelsize=20) \n",
    "matplotlib.rc('xtick', labelsize=14) \n",
    "matplotlib.rc('ytick', labelsize=14) \n",
    "matplotlib.rcParams.update({'font.size': 15})"
   ]
  },
  {
   "cell_type": "code",
   "execution_count": null,
   "metadata": {},
   "outputs": [],
   "source": [
    "import os\n",
    "os.getcwd()"
   ]
  },
  {
   "cell_type": "code",
   "execution_count": 3,
   "metadata": {},
   "outputs": [],
   "source": [
    "def model_classification_results(y_pred, y_prob):\n",
    "    print('Model recall: %.5f' % recall_score(y_test, y_pred))\n",
    "    print('Model precision_score: %.5f' % precision_score(y_test, y_pred))\n",
    "    print('Model roc_auc_score: %.5f' % roc_auc_score(y_test, y_pred))\n",
    "    print('Model accuracy_score: %.5f' % accuracy_score(y_test,y_pred))\n",
    "\n",
    "    confusion_matrix_pred = pd.DataFrame(confusion_matrix(y_test, y_pred),\n",
    "                                            columns=pd.MultiIndex.from_product([['Prediction'], ['Fully Paid', 'Charged Off']]),\n",
    "                                            index=pd.MultiIndex.from_product([['Actual'], ['Fully Paid', 'Charged Off']]))\n",
    "    print(\"Model confusion matrix\\n\")\n",
    "    print(confusion_matrix_pred)\n",
    "    test = pd.DataFrame({\"prob\" : y_prob, \"loan_status\" : y_test})\n",
    "    predicted_FP_RR = np.mean(y_test_relized_return[y_pred == 0])\n",
    "\n",
    "\n",
    "    print(\"\\nReal mean return of loans classified as Fully paid %.4f\" % predicted_FP_RR) #calculate the reale mean realized \n",
    "    #return of loans classified as Fully paid"
   ]
  },
  {
   "cell_type": "code",
   "execution_count": 50,
   "metadata": {},
   "outputs": [],
   "source": [
    "def res(y_prob): #function to check and plot the realized return for each threshold\n",
    "    meanR = np.arange(0)\n",
    "    sdmeanR = np.arange(0)\n",
    "    investment = np.arange(0)\n",
    "    thresholds = np.arange(0.04, 1.0, 0.01)\n",
    "    for i in thresholds:\n",
    "        y_pred = (y_prob >= i).astype('int')\n",
    "        meanR = np.append(meanR, np.mean(y_test_relized_return[y_pred == 0]))\n",
    "        sdmeanR = np.append(sdmeanR, np.std(y_test_relized_return[y_pred == 0]))\n",
    "        investment = np.append(investment, np.sum(y_test_loan_amount[y_pred == 0]))\n",
    "    return pd.DataFrame({\"c_thresholds\" : thresholds,\"meanR\" : meanR, \"sdmeanR\" : sdmeanR, \"investment_frac\" : investment/np.sum(y_test_loan_amount),\n",
    "                         \"investment\" : investment,\n",
    "                   \"lower_bound\" : meanR-sdmeanR, \"upper_bound\" : meanR+sdmeanR\n",
    "                  })\n"
   ]
  },
  {
   "cell_type": "code",
   "execution_count": 5,
   "metadata": {},
   "outputs": [],
   "source": [
    "def retrun_invest(df):\n",
    "    sns.lineplot(\"c_thresholds\", \"meanR\", data = df)\n",
    "    plt.ylabel('Mean realized return')\n",
    "    plt.xlabel('Threshold to predict as default')\n",
    "    plt.show()"
   ]
  },
  {
   "cell_type": "code",
   "execution_count": 6,
   "metadata": {},
   "outputs": [],
   "source": [
    "def plot_roc_propbs(y_prob): #plot model roc curve and histogram of probabilties\n",
    "    fpr, tpr, thresholds = roc_curve(y_test, y_prob)\n",
    "    \n",
    "    plt.figure(figsize = (13, 4.5))\n",
    "    plt.subplot(1, 2, 1)\n",
    "\n",
    "    plt.title(\"ROC Curve (AUC = %0.2f)\"% roc_auc_score(y_test, y_prob))\n",
    "    plt.plot(fpr, tpr, 'b')\n",
    "    plt.plot([0,1],[0,1],'r--')\n",
    "    plt.xlim([0,1]); plt.ylim([0,1])\n",
    "    plt.ylabel('True Positive Rate')\n",
    "    plt.xlabel('False Positive Rate')\n",
    "\n",
    "\n",
    "    plt.subplot(1, 2, 2)\n",
    "    plt.hist(y_prob, range=(0, 1), bins=10, histtype=\"step\", lw=2)\n",
    "    plt.xlim([0,1]); plt.ylim([0,20000])\n",
    "    plt.xlabel('Mean Predicted Probability')\n",
    "    plt.ylabel('Count')"
   ]
  },
  {
   "cell_type": "code",
   "execution_count": 7,
   "metadata": {},
   "outputs": [],
   "source": [
    "def threshhold_dist(df, model):\n",
    "    sns.violinplot(x = \"prob\", data = df[df.loan_status == 1])\n",
    "    plt.title(\"%s probabilities distrabution defualt\" % model)\n",
    "    plt.xlabel('Model defualt probabilities')\n",
    "    plt.show()\n",
    "    sns.violinplot(x = \"prob\", data = df[df.loan_status == 0])\n",
    "    plt.title(\"%s probabilities distrabution fully paid\" % model)\n",
    "    plt.xlabel('Model defualt probabilities')\n",
    "    plt.show()\n",
    "    sns.histplot(x = \"prob\", data = df, hue = \"loan_status\", bins = 50)\n",
    "    plt.title(\"%s probabilities distrabution defualt\" % model)\n",
    "    plt.xlabel('Model defualt probabilities')\n",
    "    plt.show()"
   ]
  },
  {
   "cell_type": "markdown",
   "metadata": {},
   "source": [
    "---------------------------------------------------------"
   ]
  },
  {
   "cell_type": "code",
   "execution_count": 17,
   "metadata": {},
   "outputs": [],
   "source": [
    "dd = pd.read_csv(\"loans_stage_5.csv\",index_col=0)"
   ]
  },
  {
   "cell_type": "markdown",
   "metadata": {},
   "source": [
    "# Model selection"
   ]
  },
  {
   "cell_type": "markdown",
   "metadata": {},
   "source": [
    "To choose we will compare our models mean return and SD of return for every fraction of loans invested"
   ]
  },
  {
   "cell_type": "code",
   "execution_count": 22,
   "metadata": {},
   "outputs": [],
   "source": [
    "X = dd.copy()\n",
    "y = dd['loan_status']"
   ]
  },
  {
   "cell_type": "code",
   "execution_count": 23,
   "metadata": {},
   "outputs": [],
   "source": [
    "X_train, X_test, y_train, y_test = train_test_split(X, y, test_size=0.3, stratify=y)"
   ]
  },
  {
   "cell_type": "code",
   "execution_count": 24,
   "metadata": {},
   "outputs": [],
   "source": [
    "y_test_relized_return = X_test[\"realized_return\"] #save the real realized return of the test loans\n",
    "y_test_loan_amount = X_test[\"loan_amnt\"] #save the real loan amnt of the test loans"
   ]
  },
  {
   "cell_type": "code",
   "execution_count": 25,
   "metadata": {},
   "outputs": [],
   "source": [
    "#and now drop them\n",
    "X_train = X_train.drop(['loan_status', 'realized_return'], axis=1)\n",
    "X_test = X_test.drop(['loan_status', 'realized_return'], axis=1)"
   ]
  },
  {
   "cell_type": "markdown",
   "metadata": {},
   "source": [
    "# Random forest"
   ]
  },
  {
   "cell_type": "code",
   "execution_count": 13,
   "metadata": {},
   "outputs": [
    {
     "data": {
      "text/plain": [
       "RandomForestClassifier(criterion='entropy', min_samples_split=40)"
      ]
     },
     "execution_count": 13,
     "metadata": {},
     "output_type": "execute_result"
    }
   ],
   "source": [
    "# logistic regression\n",
    "RF = RandomForestClassifier(criterion='entropy', min_samples_split = 40)\n",
    "RF.fit(X_train, y_train)"
   ]
  },
  {
   "cell_type": "code",
   "execution_count": 14,
   "metadata": {},
   "outputs": [],
   "source": [
    "threshold = 0.3 #set threshold for classification decidion\n",
    "y_prob_RF = RF.predict_proba(X_test)[:, 1] # get probability\n",
    "y_pred_RF = (y_prob_RF >= threshold).astype('int')"
   ]
  },
  {
   "cell_type": "code",
   "execution_count": 15,
   "metadata": {},
   "outputs": [],
   "source": [
    "res_RF = res(y_prob_RF)"
   ]
  },
  {
   "cell_type": "code",
   "execution_count": 16,
   "metadata": {},
   "outputs": [],
   "source": [
    "fpr_RF, tpr_RF, thresholds = roc_curve(y_test, y_prob_RF)"
   ]
  },
  {
   "cell_type": "code",
   "execution_count": 17,
   "metadata": {},
   "outputs": [],
   "source": [
    "prob_df_RF = pd.DataFrame({\"prob\" : y_prob_RF,\"loan_status\" : y_test})"
   ]
  },
  {
   "cell_type": "markdown",
   "metadata": {},
   "source": [
    "# Gradient boosting"
   ]
  },
  {
   "cell_type": "code",
   "execution_count": 26,
   "metadata": {},
   "outputs": [
    {
     "data": {
      "text/plain": [
       "GradientBoostingClassifier()"
      ]
     },
     "execution_count": 26,
     "metadata": {},
     "output_type": "execute_result"
    }
   ],
   "source": [
    "GB = GradientBoostingClassifier()\n",
    "GB.fit(X_train, y_train)"
   ]
  },
  {
   "cell_type": "code",
   "execution_count": 27,
   "metadata": {},
   "outputs": [],
   "source": [
    "threshold = 0.3 #set threshold for classification decidion\n",
    "y_prob_GB = GB.predict_proba(X_test)[:, 1] # get probability\n",
    "y_pred_GB = (y_prob_GB >= threshold).astype('int')"
   ]
  },
  {
   "cell_type": "code",
   "execution_count": 53,
   "metadata": {},
   "outputs": [],
   "source": [
    "res_GB = res(y_prob_GB)"
   ]
  },
  {
   "cell_type": "code",
   "execution_count": 29,
   "metadata": {},
   "outputs": [],
   "source": [
    "fpr_GB, tpr_GB, thresholds = roc_curve(y_test, y_prob_GB)"
   ]
  },
  {
   "cell_type": "code",
   "execution_count": 30,
   "metadata": {},
   "outputs": [],
   "source": [
    "prob_df_GB = pd.DataFrame({\"prob\" : y_prob_GB,\"loan_status\" : y_test})"
   ]
  },
  {
   "cell_type": "markdown",
   "metadata": {},
   "source": [
    "# Logistic regression"
   ]
  },
  {
   "cell_type": "code",
   "execution_count": 23,
   "metadata": {},
   "outputs": [],
   "source": [
    "sc = StandardScaler()\n",
    "sc.fit(X_train)\n",
    "X_s = sc.transform(X_train)\n",
    "X_testS = sc.transform(X_test)"
   ]
  },
  {
   "cell_type": "code",
   "execution_count": 24,
   "metadata": {},
   "outputs": [],
   "source": [
    "# logistic regression\n",
    "LG = LogisticRegression(max_iter = 500, tol=0.1, solver = 'newton-cg')\n",
    "LG.fit(X_s, y_train)\n",
    "y_pred_LG = LG.predict(X_testS)\n",
    "y_prob_LG = LG.predict_proba(X_testS)[:, 1]"
   ]
  },
  {
   "cell_type": "code",
   "execution_count": 25,
   "metadata": {},
   "outputs": [],
   "source": [
    "threshold = 0.3 #set threshold for classification decidion\n",
    "y_pred_LG = (y_prob_LG >= threshold).astype('int')"
   ]
  },
  {
   "cell_type": "code",
   "execution_count": 26,
   "metadata": {},
   "outputs": [],
   "source": [
    "res_LG = res(y_prob_LG)"
   ]
  },
  {
   "cell_type": "code",
   "execution_count": 27,
   "metadata": {},
   "outputs": [],
   "source": [
    "fpr_LG, tpr_LG, thresholds = roc_curve(y_test, y_prob_LG)"
   ]
  },
  {
   "cell_type": "code",
   "execution_count": 28,
   "metadata": {},
   "outputs": [],
   "source": [
    "prob_df_LG = pd.DataFrame({\"prob\" : y_prob_LG,\"loan_status\" : y_test})"
   ]
  },
  {
   "cell_type": "code",
   "execution_count": null,
   "metadata": {},
   "outputs": [],
   "source": []
  },
  {
   "cell_type": "code",
   "execution_count": 29,
   "metadata": {},
   "outputs": [],
   "source": [
    "diff = pd.DataFrame({\"Mean_diff\" : res_GB.meanR - res_RF.meanR, \"sd_diff\": res_GB.sdmeanR - res_RF.sdmeanR,\n",
    "                     \"investment_frac\" : res_GB.investment_frac})"
   ]
  },
  {
   "cell_type": "code",
   "execution_count": 31,
   "metadata": {},
   "outputs": [],
   "source": [
    "diff.to_csv(\"model_diff.csv\")"
   ]
  },
  {
   "cell_type": "markdown",
   "metadata": {},
   "source": [
    "# Feature selection"
   ]
  },
  {
   "cell_type": "code",
   "execution_count": 32,
   "metadata": {},
   "outputs": [],
   "source": [
    "X = dd.drop(['loan_status', 'realized_return'], axis=1)\n",
    "y = dd['loan_status']"
   ]
  },
  {
   "cell_type": "code",
   "execution_count": 33,
   "metadata": {},
   "outputs": [],
   "source": [
    "from sklearn.feature_selection import RFECV"
   ]
  },
  {
   "cell_type": "code",
   "execution_count": 34,
   "metadata": {},
   "outputs": [],
   "source": [
    "cols = X.columns\n",
    "sc = StandardScaler()\n",
    "sc.fit(X)\n",
    "X = sc.transform(X)\n",
    "X = pd.DataFrame(X, columns= cols)"
   ]
  },
  {
   "cell_type": "code",
   "execution_count": 35,
   "metadata": {},
   "outputs": [],
   "source": [
    "GB = LogisticRegression()\n",
    "selector = RFECV(GB, cv = 5, scoring=\"f1\")\n",
    "Xs = selector.fit_transform(X, y)"
   ]
  },
  {
   "cell_type": "code",
   "execution_count": 11,
   "metadata": {},
   "outputs": [],
   "source": [
    "# selected_cols = ['loan_amnt', 'int_rate', 'installment', 'annual_inc',\n",
    "#        'verification_status', 'dti', 'delinq_2yrs', 'fico_range_low',\n",
    "#        'open_acc', 'revol_bal', 'total_bal_il', 'il_util', 'max_bal_bc',\n",
    "#        'bc_open_to_buy', 'mo_sin_old_rev_tl_op', 'mort_acc',\n",
    "#        'mths_since_recent_bc', 'num_actv_bc_tl', 'num_il_tl', 'pct_tl_nvr_dlq',\n",
    "#        'pub_rec_bankruptcies', 'cr_hist', 'Installment_feat', 'MORTGAGE',\n",
    "#        'RENT']"
   ]
  },
  {
   "cell_type": "code",
   "execution_count": 36,
   "metadata": {},
   "outputs": [
    {
     "name": "stdout",
     "output_type": "stream",
     "text": [
      "Optimal number of features : 25\n",
      "Best features : Index(['loan_amnt', 'int_rate', 'installment', 'annual_inc',\n",
      "       'verification_status', 'dti', 'delinq_2yrs', 'fico_range_low',\n",
      "       'open_acc', 'revol_bal', 'total_bal_il', 'il_util', 'max_bal_bc',\n",
      "       'bc_open_to_buy', 'mo_sin_old_rev_tl_op', 'mort_acc',\n",
      "       'mths_since_recent_bc', 'num_actv_bc_tl', 'num_il_tl', 'pct_tl_nvr_dlq',\n",
      "       'pub_rec_bankruptcies', 'cr_hist', 'Installment_feat', 'MORTGAGE',\n",
      "       'RENT'],\n",
      "      dtype='object')\n",
      "Original features : Index(['loan_amnt', 'int_rate', 'installment', 'emp_length', 'annual_inc',\n",
      "       'verification_status', 'purpose', 'dti', 'delinq_2yrs',\n",
      "       'fico_range_low', 'open_acc', 'pub_rec', 'revol_bal', 'revol_util',\n",
      "       'initial_list_status', 'tot_coll_amt', 'tot_cur_bal', 'total_bal_il',\n",
      "       'il_util', 'max_bal_bc', 'all_util', 'bc_open_to_buy',\n",
      "       'mo_sin_old_rev_tl_op', 'mort_acc', 'mths_since_recent_bc',\n",
      "       'num_actv_bc_tl', 'num_bc_tl', 'num_il_tl', 'pct_tl_nvr_dlq',\n",
      "       'pub_rec_bankruptcies', 'cr_hist', 'Installment_feat', 'MORTGAGE',\n",
      "       'OWN', 'RENT'],\n",
      "      dtype='object')\n"
     ]
    },
    {
     "data": {
      "image/png": "[encoded data removed]",
      "text/plain": [
       "<Figure size 432x288 with 1 Axes>"
      ]
     },
     "metadata": {
      "needs_background": "light"
     },
     "output_type": "display_data"
    }
   ],
   "source": [
    "print('Optimal number of features :', selector.n_features_)\n",
    "print('Best features :', X.columns[selector.support_])\n",
    "print('Original features :', X.columns)\n",
    "plt.figure()\n",
    "plt.xlabel(\"Number of features selected\")\n",
    "plt.ylabel(\"Cross validation score \\n of number of selected features\")\n",
    "plt.plot(range(1, len(selector.grid_scores_) + 1), selector.grid_scores_)\n",
    "plt.show()"
   ]
  },
  {
   "cell_type": "code",
   "execution_count": 44,
   "metadata": {},
   "outputs": [],
   "source": [
    "cols = list(X.iloc[:,selector.support_].columns) + [\"relized_return\", \"loan_status\"]"
   ]
  },
  {
   "cell_type": "code",
   "execution_count": 45,
   "metadata": {},
   "outputs": [],
   "source": [
    "selected_cols = X.iloc[:,selector.support_].columns\n",
    "selected_cols = list(selected_cols)"
   ]
  },
  {
   "cell_type": "code",
   "execution_count": 16,
   "metadata": {},
   "outputs": [],
   "source": [
    "selected_cols = selected_cols + [\"loan_status\", \"realized_return\"]"
   ]
  },
  {
   "cell_type": "code",
   "execution_count": 20,
   "metadata": {},
   "outputs": [],
   "source": [
    "dd = dd[selected_cols]"
   ]
  },
  {
   "cell_type": "code",
   "execution_count": 37,
   "metadata": {},
   "outputs": [],
   "source": [
    "X_train = X_train.iloc[:,selector.support_]\n",
    "X_test = X_test.iloc[:,selector.support_]"
   ]
  },
  {
   "cell_type": "markdown",
   "metadata": {},
   "source": [
    "- run model with selected features"
   ]
  },
  {
   "cell_type": "markdown",
   "metadata": {},
   "source": [
    "# Gradient boosting"
   ]
  },
  {
   "cell_type": "code",
   "execution_count": 38,
   "metadata": {},
   "outputs": [
    {
     "data": {
      "text/plain": [
       "GradientBoostingClassifier(min_samples_split=20)"
      ]
     },
     "execution_count": 38,
     "metadata": {},
     "output_type": "execute_result"
    }
   ],
   "source": [
    "GB = GradientBoostingClassifier(min_samples_split = 20)\n",
    "GB.fit(X_train, y_train)"
   ]
  },
  {
   "cell_type": "code",
   "execution_count": 39,
   "metadata": {},
   "outputs": [],
   "source": [
    "threshold = 0.3 #set threshold for classification decidion\n",
    "y_prob_GB_RFE = GB.predict_proba(X_test)[:, 1] # get probability\n",
    "y_pred_GB_RFE = (y_prob_GB_RFE >= threshold).astype('int')"
   ]
  },
  {
   "cell_type": "code",
   "execution_count": 40,
   "metadata": {},
   "outputs": [],
   "source": [
    "res_GB_RFE = res(y_prob_GB_RFE)"
   ]
  },
  {
   "cell_type": "code",
   "execution_count": 41,
   "metadata": {},
   "outputs": [],
   "source": [
    "fpr_GB_RFE, tpr_GB_RFE, thresholds = roc_curve(y_test, y_prob_GB_RFE)"
   ]
  },
  {
   "cell_type": "code",
   "execution_count": 42,
   "metadata": {},
   "outputs": [],
   "source": [
    "prob_df_GB_RFE = pd.DataFrame({\"prob\" : y_prob_GB_RFE,\"loan_status\" : y_test})"
   ]
  },
  {
   "cell_type": "code",
   "execution_count": 43,
   "metadata": {},
   "outputs": [
    {
     "data": {
      "image/png": "[encoded data removed]",
      "text/plain": [
       "<Figure size 936x576 with 1 Axes>"
      ]
     },
     "metadata": {
      "needs_background": "light"
     },
     "output_type": "display_data"
    }
   ],
   "source": [
    "plt.figure(figsize = (13, 8))\n",
    "plt.title(\"Fraction of loan invested VS average return\")\n",
    "plt.plot(\"investment_frac\", \"meanR\", data = res_GB, label = \"GB\")\n",
    "plt.plot(\"investment_frac\", \"meanR\", data = res_GB_RFE, label = \"GB_RFECV\")\n",
    "plt.ylabel('Average realized return')\n",
    "plt.xlabel('Fraction of loan invested')\n",
    "plt.legend(loc = \"lower right\")\n",
    "plt.show()"
   ]
  },
  {
   "cell_type": "markdown",
   "metadata": {},
   "source": [
    "# Outliers"
   ]
  },
  {
   "cell_type": "code",
   "execution_count": 50,
   "metadata": {},
   "outputs": [],
   "source": [
    "X = dd.copy()\n",
    "y = dd['loan_status']"
   ]
  },
  {
   "cell_type": "code",
   "execution_count": 51,
   "metadata": {},
   "outputs": [],
   "source": [
    "X_train, X_test, y_train, y_test = train_test_split(X, y, test_size=0.3, stratify=y)"
   ]
  },
  {
   "cell_type": "code",
   "execution_count": 52,
   "metadata": {},
   "outputs": [],
   "source": [
    "y_test_relized_return = X_test[\"realized_return\"] #save the real realized return of the test loans\n",
    "y_test_loan_amount = X_test[\"loan_amnt\"] #save the real loan amnt of the test loans"
   ]
  },
  {
   "cell_type": "code",
   "execution_count": 53,
   "metadata": {},
   "outputs": [],
   "source": [
    "#and now drop them\n",
    "X_train = X_train.drop(['loan_status', 'realized_return'], axis=1)\n",
    "X_test = X_test.drop(['loan_status', 'realized_return'], axis=1)"
   ]
  },
  {
   "cell_type": "markdown",
   "metadata": {},
   "source": [
    "- model without removing outlires"
   ]
  },
  {
   "cell_type": "markdown",
   "metadata": {},
   "source": [
    "# Gradient boosting"
   ]
  },
  {
   "cell_type": "code",
   "execution_count": 54,
   "metadata": {},
   "outputs": [
    {
     "data": {
      "text/plain": [
       "GradientBoostingClassifier(min_samples_split=20)"
      ]
     },
     "execution_count": 54,
     "metadata": {},
     "output_type": "execute_result"
    }
   ],
   "source": [
    "GB = GradientBoostingClassifier(min_samples_split = 20)\n",
    "GB.fit(X_train, y_train)"
   ]
  },
  {
   "cell_type": "code",
   "execution_count": 55,
   "metadata": {},
   "outputs": [],
   "source": [
    "threshold = 0.3 #set threshold for classification decidion\n",
    "y_prob_GB = GB.predict_proba(X_test)[:, 1] # get probability\n",
    "y_pred_GB = (y_prob_GB >= threshold).astype('int')"
   ]
  },
  {
   "cell_type": "code",
   "execution_count": 56,
   "metadata": {},
   "outputs": [],
   "source": [
    "res_GB = res(y_prob_GB)"
   ]
  },
  {
   "cell_type": "code",
   "execution_count": 57,
   "metadata": {},
   "outputs": [],
   "source": [
    "fpr_GB, tpr_GB, thresholds = roc_curve(y_test, y_prob_GB)"
   ]
  },
  {
   "cell_type": "code",
   "execution_count": 58,
   "metadata": {},
   "outputs": [],
   "source": [
    "prob_df_GB = pd.DataFrame({\"prob\" : y_prob_GB,\"loan_status\" : y_test})"
   ]
  },
  {
   "cell_type": "markdown",
   "metadata": {},
   "source": [
    "- detect outliers"
   ]
  },
  {
   "cell_type": "code",
   "execution_count": 59,
   "metadata": {},
   "outputs": [],
   "source": [
    "from sklearn.ensemble import IsolationForest"
   ]
  },
  {
   "cell_type": "code",
   "execution_count": 60,
   "metadata": {},
   "outputs": [
    {
     "data": {
      "text/plain": [
       "IsolationForest(bootstrap=True, n_estimators=150)"
      ]
     },
     "execution_count": 60,
     "metadata": {},
     "output_type": "execute_result"
    }
   ],
   "source": [
    "clf = IsolationForest(bootstrap = True, n_estimators = 150) \n",
    "clf.fit(X_train)"
   ]
  },
  {
   "cell_type": "code",
   "execution_count": 61,
   "metadata": {},
   "outputs": [],
   "source": [
    "#if_scores = clf.decision_function(X_train)\n",
    "if_anomalies=clf.predict(X_train)\n",
    "if_anomalies=pd.Series(if_anomalies).replace([-1,1],[1,0])\n"
   ]
  },
  {
   "cell_type": "code",
   "execution_count": 62,
   "metadata": {},
   "outputs": [
    {
     "data": {
      "text/plain": [
       "10436"
      ]
     },
     "execution_count": 62,
     "metadata": {},
     "output_type": "execute_result"
    }
   ],
   "source": [
    "sum(if_anomalies)"
   ]
  },
  {
   "cell_type": "markdown",
   "metadata": {},
   "source": [
    "- model *with* removing outlires"
   ]
  },
  {
   "cell_type": "code",
   "execution_count": 63,
   "metadata": {},
   "outputs": [],
   "source": [
    "X_train.reset_index(drop = True, inplace=True)\n",
    "y_train.reset_index(drop = True, inplace=True)\n",
    "X_train = X_train[if_anomalies == 0]\n",
    "y_train = y_train[if_anomalies == 0]"
   ]
  },
  {
   "cell_type": "code",
   "execution_count": 64,
   "metadata": {},
   "outputs": [
    {
     "data": {
      "text/plain": [
       "GradientBoostingClassifier(min_samples_split=20)"
      ]
     },
     "execution_count": 64,
     "metadata": {},
     "output_type": "execute_result"
    }
   ],
   "source": [
    "GB = GradientBoostingClassifier(min_samples_split = 20)\n",
    "GB.fit(X_train, y_train)"
   ]
  },
  {
   "cell_type": "code",
   "execution_count": 65,
   "metadata": {},
   "outputs": [],
   "source": [
    "threshold = 0.3 #set threshold for classification decidion\n",
    "y_prob_GB_outlier = GB.predict_proba(X_test)[:, 1] # get probability\n",
    "y_pred_GB_outlier = (y_prob_GB_outlier >= threshold).astype('int')"
   ]
  },
  {
   "cell_type": "code",
   "execution_count": 66,
   "metadata": {},
   "outputs": [],
   "source": [
    "res_GB_outlier = res(y_prob_GB_outlier)"
   ]
  },
  {
   "cell_type": "code",
   "execution_count": 67,
   "metadata": {},
   "outputs": [],
   "source": [
    "fpr_GB_outlier, tpr_GB_outlier, thresholds = roc_curve(y_test, y_prob_GB_outlier)"
   ]
  },
  {
   "cell_type": "code",
   "execution_count": 68,
   "metadata": {},
   "outputs": [],
   "source": [
    "prob_df_GB_outlier = pd.DataFrame({\"prob\" : y_prob_GB_outlier,\"loan_status\" : y_test})"
   ]
  },
  {
   "cell_type": "markdown",
   "metadata": {},
   "source": [
    "- Compare results"
   ]
  },
  {
   "cell_type": "code",
   "execution_count": 69,
   "metadata": {},
   "outputs": [
    {
     "data": {
      "image/png": "[encoded data removed]",
      "text/plain": [
       "<Figure size 936x576 with 1 Axes>"
      ]
     },
     "metadata": {
      "needs_background": "light"
     },
     "output_type": "display_data"
    }
   ],
   "source": [
    "# investment_frac thresholds VS mean Return\n",
    "plt.figure(figsize = (13, 8))\n",
    "plt.title(\"Fraction of loan invested VS average return\")\n",
    "plt.plot(\"investment_frac\", \"meanR\", data = res_GB, label = \"GB\")\n",
    "plt.plot(\"investment_frac\", \"meanR\", data = res_GB_outlier, label = \"GB_outliers_removed\")\n",
    "plt.ylabel('Average realized return')\n",
    "plt.xlabel('Fraction of loan invested')\n",
    "plt.legend(loc = \"lower right\")\n",
    "\n",
    "plt.show()"
   ]
  },
  {
   "cell_type": "markdown",
   "metadata": {},
   "source": [
    "# Tuning hyper paramaters\n"
   ]
  },
  {
   "cell_type": "code",
   "execution_count": 70,
   "metadata": {},
   "outputs": [],
   "source": [
    "X = dd.drop(['loan_status', 'realized_return'], axis=1)\n",
    "y = dd['loan_status']"
   ]
  },
  {
   "cell_type": "code",
   "execution_count": 71,
   "metadata": {},
   "outputs": [],
   "source": [
    "from sklearn.ensemble import RandomForestClassifier\n",
    "from sklearn.experimental import enable_halving_search_cv\n",
    "from sklearn.model_selection import HalvingGridSearchCV\n",
    "from sklearn.model_selection import HalvingRandomSearchCV"
   ]
  },
  {
   "cell_type": "code",
   "execution_count": null,
   "metadata": {},
   "outputs": [],
   "source": [
    "clf = GradientBoostingClassifier()\n",
    "\n",
    "param_grid = {\"min_samples_split\": [2, 300],\n",
    "              \"min_samples_leaf\": [1, 150],\n",
    "              \"max_depth\": [1, 30],\n",
    "             \"loss\" : [\"deviance\", \"exponential\"]}\n",
    "search = HalvingGridSearchCV(clf, param_grid, resource='n_estimators',\n",
    "                           cv = 4, max_resources = 20, scoring = \"recall\").fit(X, y)"
   ]
  },
  {
   "cell_type": "code",
   "execution_count": null,
   "metadata": {},
   "outputs": [],
   "source": [
    "selector.best_params_"
   ]
  },
  {
   "cell_type": "code",
   "execution_count": null,
   "metadata": {},
   "outputs": [],
   "source": [
    "GB = GradientBoostingClassifier(min_samples_leaf = 500, max_depth = 10, min_samples_split = 1000)\n",
    "GB.fit(X_train, y_train)"
   ]
  },
  {
   "cell_type": "code",
   "execution_count": 97,
   "metadata": {},
   "outputs": [],
   "source": [
    "threshold = 0.3 #set threshold for classification decidion\n",
    "y_prob_GB_Tuned = GB.predict_proba(X_test)[:, 1] # get probability\n",
    "y_pred_GB_Tuned = (y_prob_GB_Tuned >= threshold).astype('int')"
   ]
  },
  {
   "cell_type": "code",
   "execution_count": 98,
   "metadata": {},
   "outputs": [],
   "source": [
    "res_GB_Tuned = res(y_prob_GB_Tuned)"
   ]
  },
  {
   "cell_type": "code",
   "execution_count": 99,
   "metadata": {},
   "outputs": [],
   "source": [
    "fpr_GB_Tuned, tpr_GB_Tuned, thresholds = roc_curve(y_test, y_prob_GB_Tuned)"
   ]
  },
  {
   "cell_type": "code",
   "execution_count": 100,
   "metadata": {},
   "outputs": [],
   "source": [
    "prob_df_GB_Tuned = pd.DataFrame({\"prob\" : y_prob_GB_Tuned,\"loan_status\" : y_test})"
   ]
  },
  {
   "cell_type": "markdown",
   "metadata": {},
   "source": [
    "- Compare results"
   ]
  },
  {
   "cell_type": "code",
   "execution_count": 111,
   "metadata": {},
   "outputs": [
    {
     "data": {
      "image/png": "[encoded data removed]",
      "text/plain": [
       "<Figure size 936x576 with 1 Axes>"
      ]
     },
     "metadata": {
      "needs_background": "light"
     },
     "output_type": "display_data"
    }
   ],
   "source": [
    "# investment_frac thresholds VS mean Return\n",
    "plt.figure(figsize = (13, 8))\n",
    "plt.title(\"Fraction of loan invested VS standard deviation of return\")\n",
    "plt.plot(\"investment_frac\", \"sdmeanR\", data = res_GB, label = \"GB\")\n",
    "plt.plot(\"investment_frac\", \"sdmeanR\", data = res_GB_Tuned, label = \"GB_Hyperparamaters_tuned\")\n",
    "plt.ylabel('Average realized return')\n",
    "plt.xlabel('Fraction of loan invested')\n",
    "plt.legend(loc = \"lower right\")\n",
    "\n",
    "plt.show()"
   ]
  },
  {
   "cell_type": "markdown",
   "metadata": {},
   "source": [
    "# Model comperassion"
   ]
  },
  {
   "cell_type": "markdown",
   "metadata": {},
   "source": [
    " - ROC"
   ]
  },
  {
   "cell_type": "code",
   "execution_count": null,
   "metadata": {},
   "outputs": [],
   "source": [
    "plt.figure(figsize = (13, 4.5))\n",
    "\n",
    "plt.title(\"ROC Curves\")\n",
    "plt.plot(fpr_GB, tpr_GB, label = \"GB : AUC = %.3f\" % roc_auc_score(y_test, y_prob_GB))\n",
    "plt.plot(fpr_LG, tpr_LG, label = \"LG : AUC = %.3f\" % roc_auc_score(y_test, y_prob_LG))\n",
    "plt.plot(fpr_RF, tpr_RF, label = \"RF : AUC = %.3f\" % roc_auc_score(y_test, y_prob_RF))\n",
    "plt.plot([0,1],[0,1],'r--')\n",
    "plt.xlim([0,1]); plt.ylim([0,1])\n",
    "plt.ylabel('True Positive Rate')\n",
    "plt.xlabel('False Positive Rate')\n",
    "plt.legend(loc = \"lower right\")\n",
    "plt.show()"
   ]
  },
  {
   "cell_type": "markdown",
   "metadata": {},
   "source": [
    "- thresholds VS mean Return"
   ]
  },
  {
   "cell_type": "code",
   "execution_count": null,
   "metadata": {},
   "outputs": [],
   "source": [
    "#thresholds VS mean Return\n",
    "plt.figure(figsize = (13, 8))\n",
    "plt.title(\"Threshold VS average return\")\n",
    "plt.plot(\"c_thresholds\", \"meanR\", data = res_GB, label = \"GB\")\n",
    "plt.plot(\"c_thresholds\", \"meanR\", data = res_RF, label = \"RF\")\n",
    "plt.plot(\"c_thresholds\", \"meanR\", data = res_LG, label = \"LG\")\n",
    "plt.ylabel('Average realized return')\n",
    "plt.xlabel('Threshold to predict as default')\n",
    "plt.legend(loc = \"lower right\")\n",
    "plt.show()"
   ]
  },
  {
   "cell_type": "code",
   "execution_count": null,
   "metadata": {},
   "outputs": [],
   "source": [
    "# investment_frac thresholds VS mean Return\n",
    "plt.figure(figsize = (13, 8))\n",
    "plt.title(\"Fraction of loan invested VS average return\")\n",
    "plt.plot(\"investment_frac\", \"meanR\", data = res_GB, label = \"GB\")\n",
    "plt.plot(\"investment_frac\", \"meanR\", data = res_RF, label = \"RF\")\n",
    "plt.plot(\"investment_frac\", \"meanR\", data = res_LG, label = \"LG\")\n",
    "plt.ylabel('Average realized return')\n",
    "plt.xlabel('Fraction of loan invested')\n",
    "plt.legend(loc = \"lower right\")\n",
    "plt.show()"
   ]
  },
  {
   "cell_type": "code",
   "execution_count": null,
   "metadata": {},
   "outputs": [],
   "source": [
    "# investment_frac thresholds VS mean Return\n",
    "plt.figure(figsize = (13, 8))\n",
    "plt.title(\"Amount invested  VS average return\")\n",
    "plt.plot(\"investment\", \"meanR\", data = res_GB, label = \"GB\")\n",
    "plt.plot(\"investment\", \"meanR\", data = res_RF, label = \"RF\")\n",
    "plt.plot(\"investment\", \"meanR\", data = res_LG, label = \"LG\")\n",
    "plt.ylabel('Average realized return')\n",
    "plt.xlabel('Amount invested (in hundreds of million)')\n",
    "plt.legend(loc = \"lower right\")\n",
    "plt.show()"
   ]
  },
  {
   "cell_type": "code",
   "execution_count": null,
   "metadata": {},
   "outputs": [],
   "source": [
    "# investment_frac SD VS SD Return\n",
    "plt.figure(figsize = (13, 8))\n",
    "plt.title(\"Fraction of loan invested VS standard deviation of return\")\n",
    "plt.plot(\"investment_frac\", \"sdmeanR\", data = res_GB, label = \"GB\")\n",
    "plt.plot(\"investment_frac\", \"sdmeanR\", data = res_RF, label = \"RF\")\n",
    "plt.plot(\"investment_frac\", \"sdmeanR\", data = res_LG, label = \"LG\")\n",
    "plt.ylabel('SD realized return')\n",
    "plt.xlabel('Fraction of loan invested')\n",
    "plt.legend(loc = \"lower right\")\n",
    "plt.show()"
   ]
  },
  {
   "cell_type": "code",
   "execution_count": null,
   "metadata": {},
   "outputs": [],
   "source": [
    "# investment_frac SD VS SD Return\n",
    "plt.figure(figsize = (13, 8))\n",
    "#plt.title(\"Fraction of loan invested VS standard deviation of return\")\n",
    "plt.plot(\"investment_frac\", \"Mean_diff\", data = diff, label = \"GB\")\n",
    "#plt.ylabel('SD realized returndiff')\n",
    "plt.xlabel('Fraction of loan invested')\n",
    "plt.legend(loc = \"lower right\")\n",
    "plt.show()\n",
    "\n",
    "# investment_frac SD VS SD Return\n",
    "plt.figure(figsize = (13, 8))\n",
    "#plt.title(\"Fraction of loan invested VS standard deviation of return\")\n",
    "plt.plot(\"investment_frac\", \"sd_diff\", data = diff, label = \"GB\")\n",
    "#plt.ylabel('SD realized returndiff')\n",
    "plt.xlabel('Fraction of loan invested')\n",
    "plt.legend(loc = \"lower right\")\n",
    "plt.show()"
   ]
  },
  {
   "cell_type": "code",
   "execution_count": null,
   "metadata": {},
   "outputs": [],
   "source": [
    "plt.figure(figsize = (13, 8))\n",
    "plt.title(\"Amount invested VS standard deviation of return\")\n",
    "plt.plot(\"investment\", \"sdmeanR\", data = res_GB, label = \"GB\")\n",
    "plt.plot(\"investment\", \"sdmeanR\", data = res_RF, label = \"RF\")\n",
    "plt.plot(\"investment\", \"sdmeanR\", data = res_LG, label = \"LG\")\n",
    "plt.ylabel('SD realized return')\n",
    "plt.xlabel('Amount invested (in hundreds of million)')\n",
    "plt.legend(loc = \"lower right\")\n",
    "plt.show()"
   ]
  },
  {
   "cell_type": "code",
   "execution_count": null,
   "metadata": {},
   "outputs": [],
   "source": []
  }
 ],
 "metadata": {
  "kernelspec": {
   "display_name": "Python 3",
   "language": "python",
   "name": "python3"
  },
  "language_info": {
   "codemirror_mode": {
    "name": "ipython",
    "version": 3
   },
   "file_extension": ".py",
   "mimetype": "text/x-python",
   "name": "python",
   "nbconvert_exporter": "python",
   "pygments_lexer": "ipython3",
   "version": "3.7.6"
  }
 },
 "nbformat": 4,
 "nbformat_minor": 4
}
